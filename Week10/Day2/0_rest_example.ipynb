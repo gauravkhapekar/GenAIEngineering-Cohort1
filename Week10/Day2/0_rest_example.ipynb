{
  "cells": [
    {
      "cell_type": "markdown",
      "metadata": {},
      "source": [
        "# REST API Tutorial with JSONPlaceholder\n",
        "\n",
        "## Introduction\n",
        "\n",
        "REST (Representational State Transfer) is an architectural style for designing networked applications. It relies on a stateless, client-server communication protocol.\n",
        "\n",
        "In this tutorial, we'll use:\n",
        "- **JSONPlaceholder** (https://jsonplaceholder.typicode.com/) - A free fake REST API\n",
        "- **requests** library - Python's HTTP library for making API calls\n",
        "\n",
        "### Key REST Concepts:\n",
        "- **Resources**: Objects or data (e.g., users, posts, comments)\n",
        "- **HTTP Methods**: GET (read), POST (create), PUT (update), DELETE (remove)\n",
        "- **Endpoints**: URLs that represent resources\n",
        "- **Status Codes**: Indicate success/failure (200=OK, 201=Created, 404=Not Found)"
      ]
    },
    {
      "cell_type": "code",
      "execution_count": 1,
      "metadata": {},
      "outputs": [],
      "source": [
        "# Install required library (run this if needed)\n",
        "# !pip install requests"
      ]
    },
    {
      "cell_type": "code",
      "execution_count": 2,
      "metadata": {},
      "outputs": [],
      "source": [
        "import requests\n",
        "import json\n",
        "from pprint import pprint\n",
        "\n",
        "# Base URL for the API\n",
        "BASE_URL = \"https://jsonplaceholder.typicode.com\""
      ]
    },
    {
      "cell_type": "markdown",
      "metadata": {},
      "source": [
        "## 1. GET Request - Retrieving Data\n",
        "\n",
        "GET requests are used to retrieve data from the server. They should never modify data on the server."
      ]
    },
    {
      "cell_type": "code",
      "execution_count": 3,
      "metadata": {},
      "outputs": [
        {
          "name": "stdout",
          "output_type": "stream",
          "text": [
            "Status Code: 200\n",
            "Number of posts: 100\n",
            "\n",
            "First post:\n",
            "{'body': 'quia et suscipit\\n'\n",
            "         'suscipit recusandae consequuntur expedita et cum\\n'\n",
            "         'reprehenderit molestiae ut ut quas totam\\n'\n",
            "         'nostrum rerum est autem sunt rem eveniet architecto',\n",
            " 'id': 1,\n",
            " 'title': 'sunt aut facere repellat provident occaecati excepturi optio '\n",
            "          'reprehenderit',\n",
            " 'userId': 1}\n"
          ]
        }
      ],
      "source": [
        "# Get all posts\n",
        "response = requests.get(f\"{BASE_URL}/posts\")\n",
        "\n",
        "print(f\"Status Code: {response.status_code}\")\n",
        "print(f\"Number of posts: {len(response.json())}\")\n",
        "print(\"\\nFirst post:\")\n",
        "pprint(response.json()[0])"
      ]
    },
    {
      "cell_type": "code",
      "execution_count": 4,
      "metadata": {},
      "outputs": [
        {
          "name": "stdout",
          "output_type": "stream",
          "text": [
            "Status Code: 200\n",
            "\n",
            "Post details:\n",
            "{'body': 'quia et suscipit\\n'\n",
            "         'suscipit recusandae consequuntur expedita et cum\\n'\n",
            "         'reprehenderit molestiae ut ut quas totam\\n'\n",
            "         'nostrum rerum est autem sunt rem eveniet architecto',\n",
            " 'id': 1,\n",
            " 'title': 'sunt aut facere repellat provident occaecati excepturi optio '\n",
            "          'reprehenderit',\n",
            " 'userId': 1}\n"
          ]
        }
      ],
      "source": [
        "# Get a specific post by ID\n",
        "post_id = 1\n",
        "response = requests.get(f\"{BASE_URL}/posts/{post_id}\")\n",
        "\n",
        "print(f\"Status Code: {response.status_code}\")\n",
        "print(\"\\nPost details:\")\n",
        "pprint(response.json())"
      ]
    },
    {
      "cell_type": "code",
      "execution_count": 5,
      "metadata": {},
      "outputs": [
        {
          "name": "stdout",
          "output_type": "stream",
          "text": [
            "Status Code: 200\n",
            "Number of posts by user 1: 10\n",
            "\n",
            "First post by this user:\n",
            "{'body': 'quia et suscipit\\n'\n",
            "         'suscipit recusandae consequuntur expedita et cum\\n'\n",
            "         'reprehenderit molestiae ut ut quas totam\\n'\n",
            "         'nostrum rerum est autem sunt rem eveniet architecto',\n",
            " 'id': 1,\n",
            " 'title': 'sunt aut facere repellat provident occaecati excepturi optio '\n",
            "          'reprehenderit',\n",
            " 'userId': 1}\n"
          ]
        }
      ],
      "source": [
        "# Get posts by a specific user using query parameters\n",
        "user_id = 1\n",
        "response = requests.get(f\"{BASE_URL}/posts\", params={'userId': user_id})\n",
        "\n",
        "print(f\"Status Code: {response.status_code}\")\n",
        "print(f\"Number of posts by user {user_id}: {len(response.json())}\")\n",
        "print(\"\\nFirst post by this user:\")\n",
        "pprint(response.json()[0])"
      ]
    },
    {
      "cell_type": "markdown",
      "metadata": {},
      "source": [
        "## 2. POST Request - Creating Data\n",
        "\n",
        "POST requests are used to create new resources on the server."
      ]
    },
    {
      "cell_type": "code",
      "execution_count": 6,
      "metadata": {},
      "outputs": [
        {
          "name": "stdout",
          "output_type": "stream",
          "text": [
            "Status Code: 201\n",
            "\n",
            "Created post:\n",
            "{'body': 'This is the content of my post created via REST API.',\n",
            " 'id': 101,\n",
            " 'title': 'My First API Post',\n",
            " 'userId': 1}\n"
          ]
        }
      ],
      "source": [
        "# Create a new post\n",
        "new_post = {\n",
        "    \"title\": \"My First API Post\",\n",
        "    \"body\": \"This is the content of my post created via REST API.\",\n",
        "    \"userId\": 1\n",
        "}\n",
        "\n",
        "response = requests.post(f\"{BASE_URL}/posts\", json=new_post)\n",
        "\n",
        "print(f\"Status Code: {response.status_code}\")\n",
        "print(\"\\nCreated post:\")\n",
        "pprint(response.json())\n",
        "\n",
        "# Note: JSONPlaceholder doesn't actually save the data, but simulates the response"
      ]
    },
    {
      "cell_type": "markdown",
      "metadata": {},
      "source": [
        "## 3. PUT Request - Updating Data\n",
        "\n",
        "PUT requests are used to update existing resources. They typically replace the entire resource."
      ]
    },
    {
      "cell_type": "code",
      "execution_count": 7,
      "metadata": {},
      "outputs": [
        {
          "name": "stdout",
          "output_type": "stream",
          "text": [
            "Status Code: 200\n",
            "\n",
            "Updated post:\n",
            "{'body': 'This post has been updated via PUT request.',\n",
            " 'id': 1,\n",
            " 'title': 'Updated Title',\n",
            " 'userId': 1}\n"
          ]
        }
      ],
      "source": [
        "# Update an existing post\n",
        "post_id = 1\n",
        "updated_post = {\n",
        "    \"id\": post_id,\n",
        "    \"title\": \"Updated Title\",\n",
        "    \"body\": \"This post has been updated via PUT request.\",\n",
        "    \"userId\": 1\n",
        "}\n",
        "\n",
        "response = requests.put(f\"{BASE_URL}/posts/{post_id}\", json=updated_post)\n",
        "\n",
        "print(f\"Status Code: {response.status_code}\")\n",
        "print(\"\\nUpdated post:\")\n",
        "pprint(response.json())"
      ]
    },
    {
      "cell_type": "markdown",
      "metadata": {},
      "source": [
        "## 4. PATCH Request - Partial Update\n",
        "\n",
        "PATCH requests are used to partially update a resource (only specified fields)."
      ]
    },
    {
      "cell_type": "code",
      "execution_count": 8,
      "metadata": {},
      "outputs": [
        {
          "name": "stdout",
          "output_type": "stream",
          "text": [
            "Status Code: 200\n",
            "\n",
            "Partially updated post:\n",
            "{'body': 'quia et suscipit\\n'\n",
            "         'suscipit recusandae consequuntur expedita et cum\\n'\n",
            "         'reprehenderit molestiae ut ut quas totam\\n'\n",
            "         'nostrum rerum est autem sunt rem eveniet architecto',\n",
            " 'id': 1,\n",
            " 'title': 'Only the Title is Updated',\n",
            " 'userId': 1}\n"
          ]
        }
      ],
      "source": [
        "# Partially update a post (only title)\n",
        "post_id = 1\n",
        "partial_update = {\n",
        "    \"title\": \"Only the Title is Updated\"\n",
        "}\n",
        "\n",
        "response = requests.patch(f\"{BASE_URL}/posts/{post_id}\", json=partial_update)\n",
        "\n",
        "print(f\"Status Code: {response.status_code}\")\n",
        "print(\"\\nPartially updated post:\")\n",
        "pprint(response.json())"
      ]
    },
    {
      "cell_type": "markdown",
      "metadata": {},
      "source": [
        "## 5. DELETE Request - Removing Data\n",
        "\n",
        "DELETE requests are used to remove resources from the server."
      ]
    },
    {
      "cell_type": "code",
      "execution_count": 9,
      "metadata": {},
      "outputs": [
        {
          "name": "stdout",
          "output_type": "stream",
          "text": [
            "Status Code: 200\n",
            "Response: {}\n"
          ]
        }
      ],
      "source": [
        "# Delete a post\n",
        "post_id = 1\n",
        "response = requests.delete(f\"{BASE_URL}/posts/{post_id}\")\n",
        "\n",
        "print(f\"Status Code: {response.status_code}\")\n",
        "print(f\"Response: {response.json()}\")  # Usually empty for DELETE"
      ]
    },
    {
      "cell_type": "markdown",
      "metadata": {},
      "source": [
        "## 6. Working with Related Resources\n",
        "\n",
        "REST APIs often have related resources that can be accessed through nested routes."
      ]
    },
    {
      "cell_type": "code",
      "execution_count": 10,
      "metadata": {},
      "outputs": [
        {
          "name": "stdout",
          "output_type": "stream",
          "text": [
            "Status Code: 200\n",
            "Number of comments: 5\n",
            "\n",
            "First comment:\n",
            "{'body': 'laudantium enim quasi est quidem magnam voluptate ipsam eos\\n'\n",
            "         'tempora quo necessitatibus\\n'\n",
            "         'dolor quam autem quasi\\n'\n",
            "         'reiciendis et nam sapiente accusantium',\n",
            " 'email': 'Eliseo@gardner.biz',\n",
            " 'id': 1,\n",
            " 'name': 'id labore ex et quam laborum',\n",
            " 'postId': 1}\n"
          ]
        }
      ],
      "source": [
        "# Get comments for a specific post\n",
        "post_id = 1\n",
        "response = requests.get(f\"{BASE_URL}/posts/{post_id}/comments\")\n",
        "\n",
        "print(f\"Status Code: {response.status_code}\")\n",
        "print(f\"Number of comments: {len(response.json())}\")\n",
        "print(\"\\nFirst comment:\")\n",
        "pprint(response.json()[0])"
      ]
    },
    {
      "cell_type": "markdown",
      "metadata": {},
      "source": [
        "## 7. Error Handling\n",
        "\n",
        "Always handle potential errors when working with APIs."
      ]
    },
    {
      "cell_type": "code",
      "execution_count": 11,
      "metadata": {},
      "outputs": [
        {
          "name": "stdout",
          "output_type": "stream",
          "text": [
            "Error: Post with ID 999999 not found (404)\n"
          ]
        }
      ],
      "source": [
        "# Try to get a non-existent post\n",
        "post_id = 999999\n",
        "response = requests.get(f\"{BASE_URL}/posts/{post_id}\")\n",
        "\n",
        "if response.status_code == 200:\n",
        "    print(\"Post found:\")\n",
        "    pprint(response.json())\n",
        "elif response.status_code == 404:\n",
        "    print(f\"Error: Post with ID {post_id} not found (404)\")\n",
        "else:\n",
        "    print(f\"Error: Status code {response.status_code}\")"
      ]
    },
    {
      "cell_type": "code",
      "execution_count": 12,
      "metadata": {},
      "outputs": [
        {
          "name": "stdout",
          "output_type": "stream",
          "text": [
            "Successfully retrieved data:\n",
            "{'body': 'quia et suscipit\\n'\n",
            "         'suscipit recusandae consequuntur expedita et cum\\n'\n",
            "         'reprehenderit molestiae ut ut quas totam\\n'\n",
            "         'nostrum rerum est autem sunt rem eveniet architecto',\n",
            " 'id': 1,\n",
            " 'title': 'sunt aut facere repellat provident occaecati excepturi optio '\n",
            "          'reprehenderit',\n",
            " 'userId': 1}\n"
          ]
        }
      ],
      "source": [
        "# Better error handling with try-except\n",
        "def safe_api_call(url):\n",
        "    try:\n",
        "        response = requests.get(url, timeout=5)\n",
        "        response.raise_for_status()  # Raises an HTTPError for bad responses\n",
        "        return response.json()\n",
        "    except requests.exceptions.Timeout:\n",
        "        print(\"Error: Request timed out\")\n",
        "    except requests.exceptions.ConnectionError:\n",
        "        print(\"Error: Connection error\")\n",
        "    except requests.exceptions.HTTPError as e:\n",
        "        print(f\"HTTP Error: {e}\")\n",
        "    except Exception as e:\n",
        "        print(f\"Unexpected error: {e}\")\n",
        "    return None\n",
        "\n",
        "# Test the function\n",
        "data = safe_api_call(f\"{BASE_URL}/posts/1\")\n",
        "if data:\n",
        "    print(\"Successfully retrieved data:\")\n",
        "    pprint(data)"
      ]
    },
    {
      "cell_type": "markdown",
      "metadata": {},
      "source": [
        "## 8. Headers and Authentication\n",
        "\n",
        "Many APIs require authentication. Here's how to work with headers."
      ]
    },
    {
      "cell_type": "code",
      "execution_count": 13,
      "metadata": {},
      "outputs": [
        {
          "name": "stdout",
          "output_type": "stream",
          "text": [
            "Status Code: 200\n",
            "\n",
            "Request Headers:\n",
            "{'Accept': '*/*',\n",
            " 'Accept-Encoding': 'gzip, deflate',\n",
            " 'Connection': 'keep-alive',\n",
            " 'Content-Type': 'application/json',\n",
            " 'User-Agent': 'Student Tutorial/1.0'}\n"
          ]
        }
      ],
      "source": [
        "# Example with custom headers\n",
        "headers = {\n",
        "    \"Content-Type\": \"application/json\",\n",
        "    \"User-Agent\": \"Student Tutorial/1.0\",\n",
        "    # \"Authorization\": \"Bearer YOUR_TOKEN_HERE\"  # Common auth pattern\n",
        "}\n",
        "\n",
        "response = requests.get(f\"{BASE_URL}/posts/1\", headers=headers)\n",
        "\n",
        "print(f\"Status Code: {response.status_code}\")\n",
        "print(\"\\nRequest Headers:\")\n",
        "pprint(dict(response.request.headers))"
      ]
    },
    {
      "cell_type": "markdown",
      "metadata": {},
      "source": [
        "## 9. Practice Exercise\n",
        "\n",
        "Create a simple function that:\n",
        "1. Gets all users\n",
        "2. For each user, gets their posts\n",
        "3. Counts total posts per user\n",
        "4. Returns a summary"
      ]
    },
    {
      "cell_type": "code",
      "execution_count": 14,
      "metadata": {},
      "outputs": [
        {
          "name": "stdout",
          "output_type": "stream",
          "text": [
            "Posts per user:\n",
            "  Leanne Graham: 10 posts\n",
            "  Ervin Howell: 10 posts\n",
            "  Clementine Bauch: 10 posts\n"
          ]
        }
      ],
      "source": [
        "def analyze_user_posts():\n",
        "    # Get all users\n",
        "    users_response = requests.get(f\"{BASE_URL}/users\")\n",
        "    users = users_response.json()\n",
        "    \n",
        "    user_post_counts = {}\n",
        "    \n",
        "    for user in users[:3]:  # Limit to first 3 users for demo\n",
        "        # Get posts for this user\n",
        "        posts_response = requests.get(f\"{BASE_URL}/posts\", params={'userId': user['id']})\n",
        "        posts = posts_response.json()\n",
        "        \n",
        "        user_post_counts[user['name']] = len(posts)\n",
        "    \n",
        "    return user_post_counts\n",
        "\n",
        "# Run the analysis\n",
        "post_counts = analyze_user_posts()\n",
        "print(\"Posts per user:\")\n",
        "for user, count in post_counts.items():\n",
        "    print(f\"  {user}: {count} posts\")"
      ]
    },
    {
      "cell_type": "markdown",
      "metadata": {},
      "source": [
        "## Key Takeaways\n",
        "\n",
        "1. **REST APIs** use HTTP methods to perform operations on resources\n",
        "2. **Status codes** indicate success (2xx), client errors (4xx), or server errors (5xx)\n",
        "3. **JSON** is the most common data format for REST APIs\n",
        "4. Always **handle errors** gracefully\n",
        "5. **Headers** can be used for authentication and content negotiation\n",
        "\n",
        "### Other Popular Public APIs for Teaching:\n",
        "- **OpenWeatherMap** - Weather data (requires free API key)\n",
        "- **PokeAPI** - Pokemon data (no auth required)\n",
        "- **REST Countries** - Country information (no auth required)\n",
        "- **GitHub API** - Repository data (limited without auth)\n",
        "- **NASA APIs** - Space data (free API key)"
      ]
    }
  ],
  "metadata": {
    "kernelspec": {
      "display_name": "mcp_env",
      "language": "python",
      "name": "python3"
    },
    "language_info": {
      "codemirror_mode": {
        "name": "ipython",
        "version": 3
      },
      "file_extension": ".py",
      "mimetype": "text/x-python",
      "name": "python",
      "nbconvert_exporter": "python",
      "pygments_lexer": "ipython3",
      "version": "3.11.4"
    }
  },
  "nbformat": 4,
  "nbformat_minor": 4
}
