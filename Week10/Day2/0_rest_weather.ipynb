{
  "cells": [
    {
      "cell_type": "markdown",
      "metadata": {},
      "source": [
        "# Real Weather REST API Tutorial with Open-Meteo\n",
        "\n",
        "## Why Open-Meteo?\n",
        "\n",
        "Open-Meteo is perfect for learning REST APIs because:\n",
        "- **NO API key required** - Start immediately!\n",
        "- **NO registration or credit card** needed\n",
        "- **Free for non-commercial use** with generous limits (10,000+ requests/day)\n",
        "- **Global coverage** with data from NOAA, DWD, MeteoFrance, ECMWF, and more\n",
        "- **High accuracy** with 1-11km resolution\n",
        "- **Simple JSON responses** that are easy to understand\n",
        "\n",
        "### API Documentation\n",
        "Full documentation: https://open-meteo.com/en/docs\n",
        "\n",
        "### Key Concepts We'll Learn:\n",
        "1. Making HTTP requests to real APIs\n",
        "2. Working with query parameters\n",
        "3. Parsing JSON responses\n",
        "4. Error handling\n",
        "5. Building practical weather applications"
      ]
    },
    {
      "cell_type": "code",
      "execution_count": 2,
      "metadata": {},
      "outputs": [],
      "source": [
        "# Import required libraries\n",
        "import requests\n",
        "import json\n",
        "from datetime import datetime, timedelta\n",
        "import pandas as pd\n",
        "import matplotlib.pyplot as plt\n",
        "\n",
        "# Base URL for Open-Meteo API\n",
        "BASE_URL = \"https://api.open-meteo.com/v1\""
      ]
    },
    {
      "cell_type": "markdown",
      "metadata": {},
      "source": [
        "## 1. Basic Weather Request - Current Conditions\n",
        "\n",
        "Let's start with a simple request for current weather in New York City."
      ]
    },
    {
      "cell_type": "code",
      "execution_count": 3,
      "metadata": {},
      "outputs": [
        {
          "name": "stdout",
          "output_type": "stream",
          "text": [
            "Status Code: 200\n",
            "URL Called: https://api.open-meteo.com/v1/forecast?latitude=40.7128&longitude=-74.006&current=temperature_2m%2Cwind_speed_10m%2Crelative_humidity_2m&temperature_unit=fahrenheit&wind_speed_unit=mph\n",
            "\n",
            "Current Weather in New York City:\n",
            "Temperature: 75.1°F\n",
            "Wind Speed: 9.1 mph\n",
            "Humidity: 61%\n",
            "Time: 2025-07-06T03:45\n"
          ]
        }
      ],
      "source": [
        "# Define location (New York City)\n",
        "latitude = 40.7128\n",
        "longitude = -74.0060\n",
        "\n",
        "# Build the API endpoint\n",
        "url = f\"{BASE_URL}/forecast\"\n",
        "\n",
        "# Define parameters\n",
        "params = {\n",
        "    \"latitude\": latitude,\n",
        "    \"longitude\": longitude,\n",
        "    \"current\": \"temperature_2m,wind_speed_10m,relative_humidity_2m\",\n",
        "    \"temperature_unit\": \"fahrenheit\",\n",
        "    \"wind_speed_unit\": \"mph\"\n",
        "}\n",
        "\n",
        "# Make the request\n",
        "response = requests.get(url, params=params)\n",
        "\n",
        "# Check status and display results\n",
        "print(f\"Status Code: {response.status_code}\")\n",
        "print(f\"URL Called: {response.url}\\n\")\n",
        "\n",
        "if response.status_code == 200:\n",
        "    data = response.json()\n",
        "    print(\"Current Weather in New York City:\")\n",
        "    print(f\"Temperature: {data['current']['temperature_2m']}°F\")\n",
        "    print(f\"Wind Speed: {data['current']['wind_speed_10m']} mph\")\n",
        "    print(f\"Humidity: {data['current']['relative_humidity_2m']}%\")\n",
        "    print(f\"Time: {data['current']['time']}\")"
      ]
    },
    {
      "cell_type": "markdown",
      "metadata": {},
      "source": [
        "## 2. Understanding the Response Structure\n",
        "\n",
        "Let's examine the complete response structure:"
      ]
    },
    {
      "cell_type": "code",
      "execution_count": 4,
      "metadata": {},
      "outputs": [
        {
          "name": "stdout",
          "output_type": "stream",
          "text": [
            "Full API Response:\n",
            "{\n",
            "  \"latitude\": 40.710335,\n",
            "  \"longitude\": -73.99309,\n",
            "  \"generationtime_ms\": 0.036835670471191406,\n",
            "  \"utc_offset_seconds\": 0,\n",
            "  \"timezone\": \"GMT\",\n",
            "  \"timezone_abbreviation\": \"GMT\",\n",
            "  \"elevation\": 32.0,\n",
            "  \"current_units\": {\n",
            "    \"time\": \"iso8601\",\n",
            "    \"interval\": \"seconds\",\n",
            "    \"temperature_2m\": \"\\u00b0F\",\n",
            "    \"wind_speed_10m\": \"mp/h\",\n",
            "    \"relative_humidity_2m\": \"%\"\n",
            "  },\n",
            "  \"current\": {\n",
            "    \"time\": \"2025-07-06T03:45\",\n",
            "    \"interval\": 900,\n",
            "    \"temperature_2m\": 75.1,\n",
            "    \"wind_speed_10m\": 9.1,\n",
            "    \"relative_humidity_2m\": 61\n",
            "  }\n",
            "}\n",
            "\n",
            "Response Keys:\n",
            "- latitude: float\n",
            "- longitude: float\n",
            "- generationtime_ms: float\n",
            "- utc_offset_seconds: int\n",
            "- timezone: str\n",
            "- timezone_abbreviation: str\n",
            "- elevation: float\n",
            "- current_units: dict\n",
            "- current: dict\n"
          ]
        }
      ],
      "source": [
        "# Pretty print the entire response\n",
        "print(\"Full API Response:\")\n",
        "print(json.dumps(data, indent=2))\n",
        "\n",
        "# Analyze the structure\n",
        "print(\"\\nResponse Keys:\")\n",
        "for key in data.keys():\n",
        "    print(f\"- {key}: {type(data[key]).__name__}\")"
      ]
    },
    {
      "cell_type": "markdown",
      "metadata": {},
      "source": [
        "## 3. Hourly Weather Forecast\n",
        "\n",
        "Get detailed hourly forecasts for the next 24 hours:"
      ]
    },
    {
      "cell_type": "code",
      "execution_count": 5,
      "metadata": {},
      "outputs": [
        {
          "name": "stdout",
          "output_type": "stream",
          "text": [
            "Next 24 Hours Forecast:\n",
            "                 time  temperature  precipitation  cloud_cover  wind_speed\n",
            "0 2025-07-04 00:00:00         73.5            0.1           99         5.6\n",
            "1 2025-07-04 01:00:00         73.3            0.0           44         2.6\n",
            "2 2025-07-04 02:00:00         73.3            0.0            0         7.4\n",
            "3 2025-07-04 03:00:00         71.4            0.0            0         3.0\n",
            "4 2025-07-04 04:00:00         70.2            0.0            0         2.6\n",
            "5 2025-07-04 05:00:00         69.2            0.0            0         3.5\n",
            "6 2025-07-04 06:00:00         69.4            0.0            0         4.9\n",
            "7 2025-07-04 07:00:00         67.1            0.0            0         4.6\n",
            "8 2025-07-04 08:00:00         66.1            0.0            0         3.7\n",
            "9 2025-07-04 09:00:00         65.2            0.0            0         3.6\n"
          ]
        }
      ],
      "source": [
        "# Request hourly data\n",
        "params = {\n",
        "    \"latitude\": latitude,\n",
        "    \"longitude\": longitude,\n",
        "    \"hourly\": \"temperature_2m,precipitation,cloud_cover,wind_speed_10m\",\n",
        "    \"temperature_unit\": \"fahrenheit\",\n",
        "    \"wind_speed_unit\": \"mph\",\n",
        "    \"forecast_days\": 1  # Just today\n",
        "}\n",
        "\n",
        "response = requests.get(url, params=params)\n",
        "data = response.json()\n",
        "\n",
        "# Convert to DataFrame for easier analysis\n",
        "hourly_data = pd.DataFrame({\n",
        "    'time': pd.to_datetime(data['hourly']['time']),\n",
        "    'temperature': data['hourly']['temperature_2m'],\n",
        "    'precipitation': data['hourly']['precipitation'],\n",
        "    'cloud_cover': data['hourly']['cloud_cover'],\n",
        "    'wind_speed': data['hourly']['wind_speed_10m']\n",
        "})\n",
        "\n",
        "print(\"Next 24 Hours Forecast:\")\n",
        "print(hourly_data.head(10))  # First 10 hours"
      ]
    },
    {
      "cell_type": "markdown",
      "metadata": {},
      "source": [
        "## 4. Visualizing Weather Data\n",
        "\n",
        "Create a simple weather forecast visualization:"
      ]
    },
    {
      "cell_type": "code",
      "execution_count": 6,
      "metadata": {},
      "outputs": [
        {
          "data": {
            "image/png": "[encoded data removed]",
            "text/plain": [
              "<Figure size 1200x800 with 3 Axes>"
            ]
          },
          "metadata": {},
          "output_type": "display_data"
        }
      ],
      "source": [
        "# Create a weather forecast plot\n",
        "fig, (ax1, ax2) = plt.subplots(2, 1, figsize=(12, 8), sharex=True)\n",
        "\n",
        "# Temperature plot\n",
        "ax1.plot(hourly_data['time'], hourly_data['temperature'], 'r-', linewidth=2)\n",
        "ax1.set_ylabel('Temperature (°F)', fontsize=12)\n",
        "ax1.set_title('24-Hour Weather Forecast for New York City', fontsize=14)\n",
        "ax1.grid(True, alpha=0.3)\n",
        "\n",
        "# Precipitation and cloud cover\n",
        "ax2.bar(hourly_data['time'], hourly_data['precipitation'], \n",
        "        alpha=0.7, label='Precipitation (mm)')\n",
        "ax2_twin = ax2.twinx()\n",
        "ax2_twin.plot(hourly_data['time'], hourly_data['cloud_cover'], \n",
        "              'g--', linewidth=2, label='Cloud Cover (%)')\n",
        "\n",
        "ax2.set_ylabel('Precipitation (mm)', fontsize=12)\n",
        "ax2_twin.set_ylabel('Cloud Cover (%)', fontsize=12)\n",
        "ax2.set_xlabel('Time', fontsize=12)\n",
        "\n",
        "# Format x-axis\n",
        "import matplotlib.dates as mdates\n",
        "ax2.xaxis.set_major_formatter(mdates.DateFormatter('%H:%M'))\n",
        "plt.xticks(rotation=45)\n",
        "\n",
        "plt.tight_layout()\n",
        "plt.show()"
      ]
    },
    {
      "cell_type": "markdown",
      "metadata": {},
      "source": [
        "## 5. Working with Multiple Locations\n",
        "\n",
        "Compare weather across different cities:"
      ]
    },
    {
      "cell_type": "code",
      "execution_count": 7,
      "metadata": {},
      "outputs": [
        {
          "name": "stdout",
          "output_type": "stream",
          "text": [
            "Current Weather Around the World:\n",
            "       city  temperature  weather_code  wind_speed              time\n",
            "0  New York         71.0             0        12.7  2025-07-04T12:15\n",
            "1    London         75.3             0        13.7  2025-07-04T12:15\n",
            "2     Tokyo         78.3             1         4.5  2025-07-04T12:15\n",
            "3    Sydney         48.6             0         3.0  2025-07-04T12:15\n"
          ]
        }
      ],
      "source": [
        "# Define multiple cities\n",
        "cities = [\n",
        "    {\"name\": \"New York\", \"lat\": 40.7128, \"lon\": -74.0060},\n",
        "    {\"name\": \"London\", \"lat\": 51.5074, \"lon\": -0.1278},\n",
        "    {\"name\": \"Tokyo\", \"lat\": 35.6762, \"lon\": 139.6503},\n",
        "    {\"name\": \"Sydney\", \"lat\": -33.8688, \"lon\": 151.2093}\n",
        "]\n",
        "\n",
        "# Fetch current weather for all cities\n",
        "city_weather = []\n",
        "\n",
        "for city in cities:\n",
        "    params = {\n",
        "        \"latitude\": city[\"lat\"],\n",
        "        \"longitude\": city[\"lon\"],\n",
        "        \"current\": \"temperature_2m,weather_code,wind_speed_10m\",\n",
        "        \"temperature_unit\": \"fahrenheit\"\n",
        "    }\n",
        "    \n",
        "    response = requests.get(url, params=params)\n",
        "    if response.status_code == 200:\n",
        "        data = response.json()\n",
        "        city_weather.append({\n",
        "            \"city\": city[\"name\"],\n",
        "            \"temperature\": data[\"current\"][\"temperature_2m\"],\n",
        "            \"weather_code\": data[\"current\"][\"weather_code\"],\n",
        "            \"wind_speed\": data[\"current\"][\"wind_speed_10m\"],\n",
        "            \"time\": data[\"current\"][\"time\"]\n",
        "        })\n",
        "\n",
        "# Display results\n",
        "weather_df = pd.DataFrame(city_weather)\n",
        "print(\"Current Weather Around the World:\")\n",
        "print(weather_df)"
      ]
    },
    {
      "cell_type": "markdown",
      "metadata": {},
      "source": [
        "## 6. Weather Codes and Descriptions\n",
        "\n",
        "Open-Meteo uses WMO weather codes. Let's decode them:"
      ]
    },
    {
      "cell_type": "code",
      "execution_count": 8,
      "metadata": {},
      "outputs": [
        {
          "name": "stdout",
          "output_type": "stream",
          "text": [
            "\n",
            "Weather with Descriptions:\n",
            "       city  temperature   description  wind_speed\n",
            "0  New York         71.0     Clear sky        12.7\n",
            "1    London         75.3     Clear sky        13.7\n",
            "2     Tokyo         78.3  Mainly clear         4.5\n",
            "3    Sydney         48.6     Clear sky         3.0\n"
          ]
        }
      ],
      "source": [
        "# Weather code descriptions\n",
        "weather_codes = {\n",
        "    0: \"Clear sky\",\n",
        "    1: \"Mainly clear\",\n",
        "    2: \"Partly cloudy\",\n",
        "    3: \"Overcast\",\n",
        "    45: \"Fog\",\n",
        "    48: \"Depositing rime fog\",\n",
        "    51: \"Light drizzle\",\n",
        "    53: \"Moderate drizzle\",\n",
        "    55: \"Dense drizzle\",\n",
        "    61: \"Slight rain\",\n",
        "    63: \"Moderate rain\",\n",
        "    65: \"Heavy rain\",\n",
        "    71: \"Slight snow\",\n",
        "    73: \"Moderate snow\",\n",
        "    75: \"Heavy snow\",\n",
        "    77: \"Snow grains\",\n",
        "    80: \"Slight rain showers\",\n",
        "    81: \"Moderate rain showers\",\n",
        "    82: \"Violent rain showers\",\n",
        "    85: \"Slight snow showers\",\n",
        "    86: \"Heavy snow showers\",\n",
        "    95: \"Thunderstorm\",\n",
        "    96: \"Thunderstorm with slight hail\",\n",
        "    99: \"Thunderstorm with heavy hail\"\n",
        "}\n",
        "\n",
        "# Add weather descriptions to our city data\n",
        "weather_df['description'] = weather_df['weather_code'].map(weather_codes)\n",
        "print(\"\\nWeather with Descriptions:\")\n",
        "print(weather_df[['city', 'temperature', 'description', 'wind_speed']])"
      ]
    },
    {
      "cell_type": "markdown",
      "metadata": {},
      "source": [
        "## 7. Historical Weather Data\n",
        "\n",
        "Open-Meteo also provides historical weather data:"
      ]
    },
    {
      "cell_type": "code",
      "execution_count": 9,
      "metadata": {},
      "outputs": [
        {
          "name": "stdout",
          "output_type": "stream",
          "text": [
            "Last Week's Weather in New York:\n",
            "        date  max_temp  min_temp  precipitation\n",
            "0 2025-06-27      74.9      65.1            0.0\n",
            "1 2025-06-28      86.8      63.9            8.1\n",
            "2 2025-06-29      91.4      73.7            0.0\n",
            "3 2025-06-30      94.8      72.7            0.7\n",
            "4 2025-07-01      90.8      75.3            6.2\n",
            "5 2025-07-02      85.3      72.9            4.7\n",
            "6 2025-07-03      81.9      81.9            NaN\n",
            "7 2025-07-04       NaN       NaN            NaN\n"
          ]
        }
      ],
      "source": [
        "# Get weather from last week\n",
        "end_date = datetime.now().date()\n",
        "start_date = end_date - timedelta(days=7)\n",
        "\n",
        "# Use the archive endpoint for historical data\n",
        "archive_url = \"https://archive-api.open-meteo.com/v1/archive\"\n",
        "\n",
        "params = {\n",
        "    \"latitude\": 40.7128,\n",
        "    \"longitude\": -74.0060,\n",
        "    \"start_date\": start_date.isoformat(),\n",
        "    \"end_date\": end_date.isoformat(),\n",
        "    \"daily\": \"temperature_2m_max,temperature_2m_min,precipitation_sum\",\n",
        "    \"temperature_unit\": \"fahrenheit\"\n",
        "}\n",
        "\n",
        "response = requests.get(archive_url, params=params)\n",
        "\n",
        "if response.status_code == 200:\n",
        "    historical = response.json()\n",
        "    \n",
        "    # Create DataFrame\n",
        "    historical_df = pd.DataFrame({\n",
        "        'date': pd.to_datetime(historical['daily']['time']),\n",
        "        'max_temp': historical['daily']['temperature_2m_max'],\n",
        "        'min_temp': historical['daily']['temperature_2m_min'],\n",
        "        'precipitation': historical['daily']['precipitation_sum']\n",
        "    })\n",
        "    \n",
        "    print(\"Last Week's Weather in New York:\")\n",
        "    print(historical_df)"
      ]
    },
    {
      "cell_type": "code",
      "execution_count": null,
      "metadata": {},
      "outputs": [],
      "source": []
    },
    {
      "cell_type": "code",
      "execution_count": 2,
      "metadata": {},
      "outputs": [],
      "source": [
        "from mistralai import Mistral\n",
        "\n",
        "import os\n",
        "from dotenv import load_dotenv\n",
        "\n",
        "load_dotenv()\n",
        "# Set your Mistral API key\n",
        "if 'MISTRAL_KEY' not in os.environ:\n",
        "    raise ValueError(\"MISTRAL_KEY environment variable is not set.\")\n",
        "mistral = Mistral(api_key=os.getenv('MISTRAL_KEY'))"
      ]
    },
    {
      "cell_type": "code",
      "execution_count": null,
      "metadata": {},
      "outputs": [
        {
          "data": {
            "text/plain": [
              "AssistantMessage(content='city: Bangalore, time: next 2 weeks', tool_calls=None, prefix=False, role='assistant')"
            ]
          },
          "execution_count": 12,
          "metadata": {},
          "output_type": "execute_result"
        }
      ],
      "source": [
        "\n",
        "response = mistral.chat.complete(\n",
        "    model=\"mistral-small-latest\",\n",
        "    messages=[{\n",
        "        \"role\": \"system\",\n",
        "        \"content\": \"from the given content you have to extract city, and time period requested and give it in the format 'city: <city_name>, time: <time_of_forecast>'\"\n",
        "    }, {\n",
        "        \"role\": \"user\",\n",
        "        \"content\": \"give me weather details for Bangalore, India for next 2 weeks\"\n",
        "    }],\n",
        ")\n",
        "response.choices[0].message  # Display the response content"
      ]
    },
    {
      "cell_type": "markdown",
      "metadata": {},
      "source": [
        "## 8. Error Handling and Rate Limiting\n",
        "\n",
        "Implement proper error handling for production code:"
      ]
    },
    {
      "cell_type": "code",
      "execution_count": 10,
      "metadata": {},
      "outputs": [
        {
          "name": "stdout",
          "output_type": "stream",
          "text": [
            "Temperature: 71.0°F\n",
            "\n",
            "Testing invalid coordinates:\n",
            "HTTP Error 400: 400 Client Error: Bad Request for url: https://api.open-meteo.com/v1/forecast?latitude=999&longitude=999&current=temperature_2m&temperature_unit=fahrenheit\n"
          ]
        }
      ],
      "source": [
        "def get_weather_safe(lat, lon, params=None):\n",
        "    \"\"\"\n",
        "    Safely fetch weather data with error handling\n",
        "    \"\"\"\n",
        "    base_params = {\n",
        "        \"latitude\": lat,\n",
        "        \"longitude\": lon,\n",
        "        \"current\": \"temperature_2m\",\n",
        "        \"temperature_unit\": \"fahrenheit\"\n",
        "    }\n",
        "    \n",
        "    # Merge with custom parameters\n",
        "    if params:\n",
        "        base_params.update(params)\n",
        "    \n",
        "    try:\n",
        "        response = requests.get(\n",
        "            f\"{BASE_URL}/forecast\", \n",
        "            params=base_params,\n",
        "            timeout=10  # 10 second timeout\n",
        "        )\n",
        "        \n",
        "        # Check for HTTP errors\n",
        "        response.raise_for_status()\n",
        "        \n",
        "        # Parse JSON\n",
        "        data = response.json()\n",
        "        \n",
        "        # Check for API errors\n",
        "        if \"error\" in data:\n",
        "            print(f\"API Error: {data['error']}\")\n",
        "            return None\n",
        "            \n",
        "        return data\n",
        "        \n",
        "    except requests.exceptions.Timeout:\n",
        "        print(\"Error: Request timed out\")\n",
        "    except requests.exceptions.ConnectionError:\n",
        "        print(\"Error: Could not connect to API\")\n",
        "    except requests.exceptions.HTTPError as e:\n",
        "        print(f\"HTTP Error {e.response.status_code}: {e}\")\n",
        "    except json.JSONDecodeError:\n",
        "        print(\"Error: Invalid JSON response\")\n",
        "    except Exception as e:\n",
        "        print(f\"Unexpected error: {e}\")\n",
        "    \n",
        "    return None\n",
        "\n",
        "# Test with valid coordinates\n",
        "weather = get_weather_safe(40.7128, -74.0060)\n",
        "if weather:\n",
        "    print(f\"Temperature: {weather['current']['temperature_2m']}°F\")\n",
        "\n",
        "# Test with invalid coordinates\n",
        "print(\"\\nTesting invalid coordinates:\")\n",
        "weather = get_weather_safe(999, 999)  # Invalid lat/lon"
      ]
    },
    {
      "cell_type": "markdown",
      "metadata": {},
      "source": [
        "## 9. Building a Weather Application Class\n",
        "\n",
        "Let's create a reusable weather client:"
      ]
    },
    {
      "cell_type": "code",
      "execution_count": 11,
      "metadata": {},
      "outputs": [
        {
          "name": "stdout",
          "output_type": "stream",
          "text": [
            "Current Weather in NYC:\n",
            "Temperature: 71.0°F\n",
            "Feels like: 69.9°F\n",
            "Humidity: 61%\n",
            "Wind: 7.9 mph from 331°\n",
            "\n",
            "7-Day Forecast:\n",
            "2025-07-04: 64.9-85.6°F\n",
            "2025-07-05: 61.6-87.7°F\n",
            "2025-07-06: 70.4-88.6°F\n",
            "2025-07-07: 75.2-86.8°F\n",
            "2025-07-08: 78.1-86.8°F\n",
            "2025-07-09: 74.3-83.7°F\n",
            "2025-07-10: 72.9-78.1°F\n"
          ]
        }
      ],
      "source": [
        "class WeatherClient:\n",
        "    \"\"\"\n",
        "    A simple weather client for Open-Meteo API\n",
        "    \"\"\"\n",
        "    def __init__(self, temperature_unit=\"fahrenheit\", wind_speed_unit=\"mph\"):\n",
        "        self.base_url = \"https://api.open-meteo.com/v1/forecast\"\n",
        "        self.temperature_unit = temperature_unit\n",
        "        self.wind_speed_unit = wind_speed_unit\n",
        "        \n",
        "    def get_current_weather(self, lat, lon):\n",
        "        \"\"\"Get current weather for a location\"\"\"\n",
        "        params = {\n",
        "            \"latitude\": lat,\n",
        "            \"longitude\": lon,\n",
        "            \"current\": \"temperature_2m,apparent_temperature,precipitation,rain,weather_code,wind_speed_10m,wind_direction_10m,relative_humidity_2m\",\n",
        "            \"temperature_unit\": self.temperature_unit,\n",
        "            \"wind_speed_unit\": self.wind_speed_unit\n",
        "        }\n",
        "        \n",
        "        response = requests.get(self.base_url, params=params)\n",
        "        if response.status_code == 200:\n",
        "            return response.json()[\"current\"]\n",
        "        return None\n",
        "    \n",
        "    def get_forecast(self, lat, lon, days=7):\n",
        "        \"\"\"Get daily forecast\"\"\"\n",
        "        params = {\n",
        "            \"latitude\": lat,\n",
        "            \"longitude\": lon,\n",
        "            \"daily\": \"temperature_2m_max,temperature_2m_min,precipitation_sum,weather_code\",\n",
        "            \"temperature_unit\": self.temperature_unit,\n",
        "            \"forecast_days\": days\n",
        "        }\n",
        "        \n",
        "        response = requests.get(self.base_url, params=params)\n",
        "        if response.status_code == 200:\n",
        "            return response.json()[\"daily\"]\n",
        "        return None\n",
        "    \n",
        "    def get_hourly_forecast(self, lat, lon, hours=24):\n",
        "        \"\"\"Get hourly forecast\"\"\"\n",
        "        params = {\n",
        "            \"latitude\": lat,\n",
        "            \"longitude\": lon,\n",
        "            \"hourly\": \"temperature_2m,precipitation,cloud_cover\",\n",
        "            \"temperature_unit\": self.temperature_unit,\n",
        "            \"forecast_hours\": hours\n",
        "        }\n",
        "        \n",
        "        response = requests.get(self.base_url, params=params)\n",
        "        if response.status_code == 200:\n",
        "            return response.json()[\"hourly\"]\n",
        "        return None\n",
        "\n",
        "# Use the weather client\n",
        "client = WeatherClient()\n",
        "\n",
        "# Get current weather\n",
        "current = client.get_current_weather(40.7128, -74.0060)\n",
        "if current:\n",
        "    print(\"Current Weather in NYC:\")\n",
        "    print(f\"Temperature: {current['temperature_2m']}°F\")\n",
        "    print(f\"Feels like: {current['apparent_temperature']}°F\")\n",
        "    print(f\"Humidity: {current['relative_humidity_2m']}%\")\n",
        "    print(f\"Wind: {current['wind_speed_10m']} mph from {current['wind_direction_10m']}°\")\n",
        "\n",
        "# Get 7-day forecast\n",
        "print(\"\\n7-Day Forecast:\")\n",
        "forecast = client.get_forecast(40.7128, -74.0060)\n",
        "if forecast:\n",
        "    for i in range(len(forecast['time'])):\n",
        "        print(f\"{forecast['time'][i]}: {forecast['temperature_2m_min'][i]}-{forecast['temperature_2m_max'][i]}°F\")"
      ]
    },
    {
      "cell_type": "markdown",
      "metadata": {},
      "source": [
        "## 10. Advanced Features - Air Quality & UV Index\n",
        "\n",
        "Open-Meteo also provides air quality and UV index data:"
      ]
    },
    {
      "cell_type": "code",
      "execution_count": 12,
      "metadata": {},
      "outputs": [
        {
          "name": "stdout",
          "output_type": "stream",
          "text": [
            "Current Air Quality in NYC:\n",
            "US AQI: 57\n",
            "PM2.5: 15.8 μg/m³\n",
            "PM10: 15.9 μg/m³\n",
            "Ozone: 70.0 μg/m³\n",
            "\n",
            "Air Quality Level: Moderate\n"
          ]
        }
      ],
      "source": [
        "# Get air quality data\n",
        "air_quality_url = \"https://air-quality-api.open-meteo.com/v1/air-quality\"\n",
        "\n",
        "params = {\n",
        "    \"latitude\": 40.7128,\n",
        "    \"longitude\": -74.0060,\n",
        "    \"current\": \"us_aqi,pm10,pm2_5,carbon_monoxide,nitrogen_dioxide,ozone\"\n",
        "}\n",
        "\n",
        "response = requests.get(air_quality_url, params=params)\n",
        "\n",
        "if response.status_code == 200:\n",
        "    air_data = response.json()\n",
        "    current_air = air_data['current']\n",
        "    \n",
        "    print(\"Current Air Quality in NYC:\")\n",
        "    print(f\"US AQI: {current_air['us_aqi']}\")\n",
        "    print(f\"PM2.5: {current_air['pm2_5']} μg/m³\")\n",
        "    print(f\"PM10: {current_air['pm10']} μg/m³\")\n",
        "    print(f\"Ozone: {current_air['ozone']} μg/m³\")\n",
        "    \n",
        "    # AQI interpretation\n",
        "    aqi = current_air['us_aqi']\n",
        "    if aqi <= 50:\n",
        "        quality = \"Good\"\n",
        "    elif aqi <= 100:\n",
        "        quality = \"Moderate\"\n",
        "    elif aqi <= 150:\n",
        "        quality = \"Unhealthy for Sensitive Groups\"\n",
        "    elif aqi <= 200:\n",
        "        quality = \"Unhealthy\"\n",
        "    elif aqi <= 300:\n",
        "        quality = \"Very Unhealthy\"\n",
        "    else:\n",
        "        quality = \"Hazardous\"\n",
        "    \n",
        "    print(f\"\\nAir Quality Level: {quality}\")"
      ]
    },
    {
      "cell_type": "markdown",
      "metadata": {},
      "source": [
        "## Practice Exercises\n",
        "\n",
        "1. **Weather Alert System**: Create a function that checks if temperature will exceed a threshold\n",
        "2. **Travel Weather**: Build a tool that compares weather between departure and arrival cities\n",
        "3. **Agricultural Dashboard**: Track precipitation and temperature for farming decisions\n",
        "4. **Energy Usage Predictor**: Use temperature data to estimate heating/cooling needs\n",
        "5. **Weather Trends**: Analyze historical data to find patterns\n",
        "\n",
        "## Key Takeaways\n",
        "\n",
        "- **REST APIs** provide structured access to data through HTTP endpoints\n",
        "- **Query parameters** allow customization of API requests\n",
        "- **JSON** is the standard format for API responses\n",
        "- **Error handling** is crucial for robust applications\n",
        "- **Rate limiting** must be respected (Open-Meteo is very generous!)\n",
        "- **Real-world APIs** like Open-Meteo provide valuable, accurate data\n",
        "\n",
        "## Additional Resources\n",
        "\n",
        "- Open-Meteo Documentation: https://open-meteo.com/en/docs\n",
        "- API Feature Explorer: https://open-meteo.com/en/features\n",
        "- Blog with updates: https://openmeteo.substack.com\n",
        "- GitHub: https://github.com/open-meteo/open-meteo"
      ]
    }
  ],
  "metadata": {
    "kernelspec": {
      "display_name": "mcp_env",
      "language": "python",
      "name": "python3"
    },
    "language_info": {
      "codemirror_mode": {
        "name": "ipython",
        "version": 3
      },
      "file_extension": ".py",
      "mimetype": "text/x-python",
      "name": "python",
      "nbconvert_exporter": "python",
      "pygments_lexer": "ipython3",
      "version": "3.11.4"
    }
  },
  "nbformat": 4,
  "nbformat_minor": 4
}
