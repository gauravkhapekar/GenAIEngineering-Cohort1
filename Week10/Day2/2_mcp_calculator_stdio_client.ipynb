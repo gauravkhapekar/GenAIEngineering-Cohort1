{
  "cells": [
    {
      "cell_type": "markdown",
      "metadata": {},
      "source": [
        "# MCP Calculator Client with Mistral AI (STDIO Version)\n",
        "\n",
        "This notebook demonstrates how to use MCP (Model Context Protocol) with Mistral AI's chat completion API using STDIO server connection.\n",
        "\n",
        "## What is MCP?\n",
        "Model Context Protocol (MCP) is a protocol that allows AI models to interact with external tools and services. In this example, we'll create a calculator service that can be called by Mistral AI."
      ]
    },
    {
      "cell_type": "markdown",
      "metadata": {},
      "source": [
        "## Prerequisites\n",
        "\n",
        "Before running this notebook, make sure you have the required packages installed. Uncomment and run the cell below if needed:"
      ]
    },
    {
      "cell_type": "code",
      "execution_count": null,
      "metadata": {},
      "outputs": [],
      "source": [
        "# Install required packages\n",
        "# !pip install mcp mistralai"
      ]
    },
    {
      "cell_type": "markdown",
      "metadata": {},
      "source": [
        "## Import Required Libraries\n",
        "\n",
        "We need to import:\n",
        "- `asyncio` for asynchronous operations\n",
        "- `json` for parsing tool call arguments\n",
        "- MCP client components for STDIO connection\n",
        "- Mistral AI client for LLM interactions"
      ]
    },
    {
      "cell_type": "code",
      "execution_count": 1,
      "metadata": {},
      "outputs": [],
      "source": [
        "import asyncio\n",
        "import json\n",
        "import sys\n",
        "\n",
        "\n",
        "\n",
        "from mcp import ClientSession, StdioServerParameters\n",
        "from mcp.client.stdio import stdio_client\n",
        "\n",
        "from mistralai import Mistral\n"
      ]
    },
    {
      "cell_type": "markdown",
      "metadata": {},
      "source": [
        "## Configure Mistral AI Client\n",
        "\n",
        "Replace the API key with your actual Mistral AI API key. You can get one from the Mistral AI platform."
      ]
    },
    {
      "cell_type": "code",
      "execution_count": 2,
      "metadata": {},
      "outputs": [],
      "source": [
        "import os\n",
        "from dotenv import load_dotenv\n",
        "\n",
        "load_dotenv()\n",
        "# Set your Mistral API key\n",
        "if 'MISTRAL_KEY' not in os.environ:\n",
        "    raise ValueError(\"MISTRAL_KEY environment variable is not set.\")\n",
        "mistral = Mistral(api_key=os.getenv('MISTRAL_KEY'))"
      ]
    },
    {
      "cell_type": "markdown",
      "metadata": {},
      "source": [
        "## Initialize MCP Server Connection\n",
        "\n",
        "This section establishes a connection to the MCP calculator server using STDIO (Standard Input/Output). The server should be running as a separate Python process that implements the calculator tools."
      ]
    },
    {
      "cell_type": "code",
      "execution_count": 4,
      "metadata": {},
      "outputs": [
        {
          "name": "stdout",
          "output_type": "stream",
          "text": [
            "\n",
            "🧮 Calculator ready! Found 2 tools\n"
          ]
        }
      ],
      "source": [
        "# Configure server parameters for STDIO connection\n",
        "server_params = StdioServerParameters(\n",
        "    command=sys.executable,\n",
        "    args=['2_mcp_calculator_stdio_server.py', \"--server\"]\n",
        ")\n",
        "\n",
        "# Connect to the MCP server and initialize session\n",
        "async with stdio_client(server_params) as (read_stream, write_stream):\n",
        "    async with ClientSession(read_stream, write_stream) as session:\n",
        "        # Initialize session\n",
        "        await session.initialize()\n",
        "        \n",
        "        # Get available tools from the server\n",
        "        tools_result = await session.list_tools()\n",
        "        print(f\"\\n🧮 Calculator ready! Found {len(tools_result.tools)} tools\")"
      ]
    },
    {
      "cell_type": "markdown",
      "metadata": {},
      "source": [
        "## Convert MCP Tools to Mistral Format\n",
        "\n",
        "Mistral AI expects tools in a specific format. We need to transform the MCP tool definitions into Mistral's expected schema. Each tool needs:\n",
        "- A `type` field set to \"function\"\n",
        "- A `function` object containing the tool details\n",
        "- Parameters defined as an object schema"
      ]
    },
    {
      "cell_type": "code",
      "execution_count": 5,
      "metadata": {},
      "outputs": [],
      "source": [
        "mistral_tools = []\n",
        "for tool in tools_result.tools:\n",
        "    tool_def = {\n",
        "        \"type\": \"function\",  # Required wrapper for Mistral\n",
        "        \"function\": {        # Function definition\n",
        "            \"name\": tool.name,\n",
        "            \"description\": tool.description,\n",
        "            \"parameters\": {\n",
        "                \"type\": \"object\",\n",
        "                \"properties\": {\n",
        "                    \"a\": {\n",
        "                        \"type\": \"number\",\n",
        "                        \"description\": \"First number\"\n",
        "                    },\n",
        "                    \"b\": {\n",
        "                        \"type\": \"number\",\n",
        "                        \"description\": \"Second number\"\n",
        "                    }\n",
        "                },\n",
        "                \"required\": [\"a\", \"b\"]\n",
        "            }\n",
        "        }\n",
        "    }\n",
        "    mistral_tools.append(tool_def)"
      ]
    },
    {
      "cell_type": "code",
      "execution_count": 6,
      "metadata": {},
      "outputs": [
        {
          "data": {
            "text/plain": [
              "[{'type': 'function',\n",
              "  'function': {'name': 'add',\n",
              "   'description': 'Add two numbers together',\n",
              "   'parameters': {'type': 'object',\n",
              "    'properties': {'a': {'type': 'number', 'description': 'First number'},\n",
              "     'b': {'type': 'number', 'description': 'Second number'}},\n",
              "    'required': ['a', 'b']}}},\n",
              " {'type': 'function',\n",
              "  'function': {'name': 'subtract',\n",
              "   'description': 'Subtract b from a',\n",
              "   'parameters': {'type': 'object',\n",
              "    'properties': {'a': {'type': 'number', 'description': 'First number'},\n",
              "     'b': {'type': 'number', 'description': 'Second number'}},\n",
              "    'required': ['a', 'b']}}}]"
            ]
          },
          "execution_count": 6,
          "metadata": {},
          "output_type": "execute_result"
        }
      ],
      "source": [
        "mistral_tools"
      ]
    },
    {
      "cell_type": "markdown",
      "metadata": {},
      "source": [
        "## Send a Calculation Request to Mistral\n",
        "\n",
        "Now we'll ask Mistral to perform a calculation. The model will analyze the request and determine which tool to use (add or subtract)."
      ]
    },
    {
      "cell_type": "code",
      "execution_count": 14,
      "metadata": {},
      "outputs": [],
      "source": [
        "user_input = \"add another 10\"\n",
        "\n",
        "# Send the request to Mistral with tool definitions\n",
        "response = mistral.chat.complete(\n",
        "    model=\"mistral-small-latest\",\n",
        "    messages=[{\n",
        "        \"role\": \"system\",\n",
        "        \"content\": \"You are a calculator assistant. Use the add or subtract functions to help the user with calculations.\"\n",
        "    }, {\n",
        "        \"role\": \"user\",\n",
        "        \"content\": user_input\n",
        "    }],\n",
        "    tools=mistral_tools,\n",
        "    tool_choice=\"auto\"  # Let Mistral decide which tool to use\n",
        ")"
      ]
    },
    {
      "cell_type": "code",
      "execution_count": 15,
      "metadata": {},
      "outputs": [
        {
          "name": "stdout",
          "output_type": "stream",
          "text": [
            "content='Sure, please provide the number you want to add 10 to.' tool_calls=None prefix=False role='assistant'\n"
          ]
        }
      ],
      "source": [
        "message = response.choices[0].message\n",
        "print(message)"
      ]
    },
    {
      "cell_type": "markdown",
      "metadata": {},
      "source": [
        "## Execute the Tool Call\n",
        "\n",
        "Mistral will respond with a tool call request. We need to:\n",
        "1. Extract the tool call from Mistral's response\n",
        "2. Parse the arguments\n",
        "3. Execute the tool using MCP\n",
        "4. Return the result"
      ]
    },
    {
      "cell_type": "code",
      "execution_count": 13,
      "metadata": {},
      "outputs": [
        {
          "name": "stdout",
          "output_type": "stream",
          "text": [
            "Result: 15.0\n"
          ]
        }
      ],
      "source": [
        "message = response.choices[0].message\n",
        "\n",
        "# Re-establish connection to execute the tool\n",
        "async with stdio_client(server_params) as (read_stream, write_stream):\n",
        "    async with ClientSession(read_stream, write_stream) as session:\n",
        "        # Initialize session\n",
        "        await session.initialize()\n",
        "        \n",
        "        if message.tool_calls is not None:\n",
        "            for tool_call in message.tool_calls:\n",
        "                # Get function name from the tool call\n",
        "                func_name = tool_call.function.name\n",
        "                \n",
        "                # Parse arguments (might be string or dict)\n",
        "                if isinstance(tool_call.function.arguments, str):\n",
        "                    args = json.loads(tool_call.function.arguments)\n",
        "                else:\n",
        "                    args = tool_call.function.arguments\n",
        "                \n",
        "                # Call the MCP tool and get the result\n",
        "                result = await session.call_tool(func_name, args)\n",
        "                print(f\"Result: {result.content[0].text}\")\n",
        "        else:\n",
        "            print(\"No tool calls found in the response.\")"
      ]
    },
    {
      "cell_type": "markdown",
      "metadata": {},
      "source": [
        "## Summary\n",
        "\n",
        "This notebook demonstrated:\n",
        "1. How to connect to an MCP server using STDIO\n",
        "2. How to discover available tools from the server\n",
        "3. How to convert MCP tool definitions to Mistral format\n",
        "4. How to use Mistral AI to determine which tool to call\n",
        "5. How to execute the tool call and get results\n",
        "\n",
        "The STDIO approach is useful when you want to run the MCP server as a separate process, which provides better isolation and resource management."
      ]
    }
  ],
  "metadata": {
    "kernelspec": {
      "display_name": "mcp_env",
      "language": "python",
      "name": "python3"
    },
    "language_info": {
      "codemirror_mode": {
        "name": "ipython",
        "version": 3
      },
      "file_extension": ".py",
      "mimetype": "text/x-python",
      "name": "python",
      "nbconvert_exporter": "python",
      "pygments_lexer": "ipython3",
      "version": "3.11.4"
    }
  },
  "nbformat": 4,
  "nbformat_minor": 4
}
