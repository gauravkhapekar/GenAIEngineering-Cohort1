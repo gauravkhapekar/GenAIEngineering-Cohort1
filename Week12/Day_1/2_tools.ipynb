{
 "cells": [
  {
   "cell_type": "code",
   "execution_count": 1,
   "metadata": {},
   "outputs": [],
   "source": [
    "# ! pip install ipykernel phidata openai ddgs yfinance sqlalchemy fastapi python-multipart ipywidgets uvicorn crawl4ai duckdb httpx resend pgvector psycopg psycopg2-binary chromadb lancedb fastmcp pypdf markdown"
   ]
  },
  {
   "cell_type": "markdown",
   "metadata": {},
   "source": []
  },
  {
   "cell_type": "markdown",
   "metadata": {},
   "source": [
    "\n",
    "The following code performs the following tasks:\n",
    "\n",
    "1. **Importing Required Modules**:\n",
    "    - `os`: Provides functions to interact with the operating system.\n",
    "    - `load_dotenv` from `dotenv`: Loads environment variables from a `.env` file into the system's environment.\n",
    "\n",
    "2. **Loading Environment Variables**:\n",
    "    - The `load_dotenv()` function is called to load environment variables from a `.env` file.\n",
    "\n",
    "3. **Clearing Conflicting Environment Variables**:\n",
    "    - A list of environment variables (`env_vars_to_clear`) is defined, which includes `OPENAI_API_KEY`, `OPENAI_BASE_URL`, and `OPENAI_API_BASE`.\n",
    "    - For each variable in the list, if it exists in the environment, it is removed using `del os.environ[var]`. A warning message is printed for each removed variable.\n",
    "\n",
    "4. **Setting New Environment Variables**:\n",
    "    - The `OPENAI_API_KEY` is set to the value of the `OPEN_ROUTER_KEY` environment variable.\n",
    "    - Both `OPENAI_API_BASE` and `OPENAI_BASE_URL` are set to `'https://openrouter.ai/api/v1'`.\n",
    "\n",
    "5. **Commented-Out Code**:\n",
    "    - There is an alternative block of code (commented out) that clears the same environment variables and sets `OPENAI_API_KEY` to the value of `OPEN_AI_KEY`.\n",
    "\n",
    "This code ensures that the environment variables are correctly configured for using the OpenRouter API, avoiding conflicts with any pre-existing variables.\n"
   ]
  },
  {
   "cell_type": "code",
   "execution_count": 2,
   "metadata": {},
   "outputs": [],
   "source": [
    "\n",
    "import os\n",
    "from dotenv import load_dotenv\n",
    "# Load environment variables\n",
    "load_dotenv()\n",
    "\n",
    "\n",
    "env_vars_to_clear = ['OPENAI_API_KEY', 'OPENAI_BASE_URL', 'OPENAI_API_BASE']\n",
    "for var in env_vars_to_clear:\n",
    "    if os.getenv(var):\n",
    "        print(f\"⚠️  Removing conflicting {var}\")\n",
    "        del os.environ[var]\n",
    "\n",
    "\n",
    "os.environ[\"OPENAI_API_KEY\"] = os.getenv(\"OPEN_ROUTER_KEY\")\n",
    "os.environ['OPENAI_API_BASE'] = 'https://openrouter.ai/api/v1'\n",
    "os.environ['OPENAI_BASE_URL'] = 'https://openrouter.ai/api/v1'\n",
    "\n",
    "\n",
    "\n",
    "# env_vars_to_clear = ['OPENAI_API_KEY', 'OPENAI_BASE_URL', 'OPENAI_API_BASE']\n",
    "# for var in env_vars_to_clear:\n",
    "#     if os.getenv(var):\n",
    "#         print(f\"⚠️  Removing conflicting {var}\")\n",
    "#         del os.environ[var]\n",
    "# os.environ[\"OPENAI_API_KEY\"] = os.getenv(\"OPEN_AI_KEY\")\n",
    "\n",
    "\n"
   ]
  },
  {
   "cell_type": "markdown",
   "metadata": {},
   "source": [
    "\n",
    "The following code performs the following tasks:\n",
    "\n",
    "1. **Importing Required Modules**:\n",
    "    - `os`: Provides functions to interact with the operating system.\n",
    "    - `load_dotenv` from `dotenv`: Loads environment variables from a `.env` file into the system's environment.\n",
    "\n",
    "2. **Loading Environment Variables**:\n",
    "    - The `load_dotenv()` function is called to load environment variables from a `.env` file.\n",
    "\n",
    "3. **Clearing Conflicting Environment Variables**:\n",
    "    - A list of environment variables (`env_vars_to_clear`) is defined, which includes `OPENAI_API_KEY`, `OPENAI_BASE_URL`, and `OPENAI_API_BASE`.\n",
    "    - For each variable in the list, if it exists in the environment, it is removed using `del os.environ[var]`. A warning message is printed for each removed variable.\n",
    "\n",
    "4. **Setting New Environment Variables**:\n",
    "    - The `OPENAI_API_KEY` is set to the value of the `OPEN_ROUTER_KEY` environment variable.\n",
    "    - Both `OPENAI_API_BASE` and `OPENAI_BASE_URL` are set to `'https://openrouter.ai/api/v1'`.\n",
    "\n",
    "5. **Commented-Out Code**:\n",
    "    - There is an alternative block of code (commented out) that clears the same environment variables and sets `OPENAI_API_KEY` to the value of `OPEN_AI_KEY`.\n",
    "\n",
    "This code ensures that the environment variables are correctly configured for using the OpenRouter API, avoiding conflicts with any pre-existing variables.\n"
   ]
  },
  {
   "cell_type": "code",
   "execution_count": 3,
   "metadata": {},
   "outputs": [],
   "source": [
    "from phi.agent import Agent\n",
    "from phi.tools import Tool\n",
    "from phi.model.openai import OpenAIChat\n",
    "from phi.utils.pprint import pprint_run_response"
   ]
  },
  {
   "cell_type": "markdown",
   "metadata": {},
   "source": [
    "\n",
    "The following code performs the following tasks:\n",
    "\n",
    "1. **Importing Required Modules**:\n",
    "    - `Agent` and `Tool` from `phi.agent` and `phi.tools` respectively: These are used to create and manage agents and their tools.\n",
    "    - `OpenAIChat` from `phi.model.openai`: Represents the OpenAI GPT model for chat-based interactions.\n",
    "    - `pprint_run_response` from `phi.utils.pprint`: A utility function to pretty-print the responses from the agent.\n",
    "\n",
    "2. **Purpose**:\n",
    "    - This code sets up the necessary imports to create agents, integrate tools, and interact with the OpenAI GPT model.\n",
    "\n",
    "3. **Usage**:\n",
    "    - These imports are foundational for building agents that can perform tasks such as answering questions, retrieving information, or interacting with external APIs.\n"
   ]
  },
  {
   "cell_type": "code",
   "execution_count": 4,
   "metadata": {},
   "outputs": [
    {
     "data": {
      "application/vnd.jupyter.widget-view+json": {
       "model_id": "1a9b2c4fbd8448468fae9856aa5303a6",
       "version_major": 2,
       "version_minor": 0
      },
      "text/plain": [
       "Output()"
      ]
     },
     "metadata": {},
     "output_type": "display_data"
    },
    {
     "data": {
      "text/html": [
       "<pre style=\"white-space:pre;overflow-x:auto;line-height:normal;font-family:Menlo,'DejaVu Sans Mono',consolas,'Courier New',monospace\"></pre>\n"
      ],
      "text/plain": []
     },
     "metadata": {},
     "output_type": "display_data"
    }
   ],
   "source": [
    "from phi.tools.duckduckgo import DuckDuckGo\n",
    "\n",
    "web_agent = Agent(\n",
    "    name=\"Web Agent\",\n",
    "    model=OpenAIChat(id=\"gpt-4o\"),\n",
    "    tools=[DuckDuckGo()],\n",
    "    instructions=[\"Always include sources\"],\n",
    "    show_tool_calls=True,\n",
    "    markdown=True,\n",
    ")\n",
    "web_agent.print_response(\"Explain Quantum Computing?\", stream=True)"
   ]
  },
  {
   "cell_type": "markdown",
   "metadata": {},
   "source": [
    "\n",
    "The following code performs the following tasks:\n",
    "\n",
    "1. **Creating a Web Agent**:\n",
    "    - An instance of the `Agent` class is created with the name `\"Web Agent\"`.\n",
    "    - The agent uses the `OpenAIChat` model with the ID `\"gpt-4o\"`.\n",
    "    - The agent is equipped with the `DuckDuckGo` tool, which allows it to search the web for information.\n",
    "\n",
    "2. **Agent Instructions**:\n",
    "    - The agent is instructed to always include sources in its responses.\n",
    "    - The `show_tool_calls` parameter is set to `True`, enabling the display of tool calls during execution.\n",
    "    - The `markdown` parameter is set to `True`, ensuring that the agent's responses are formatted in Markdown.\n",
    "\n",
    "3. **Agent Interaction**:\n",
    "    - The agent is prompted with the query `\"Explain Quantum Computing?\"`.\n",
    "    - The `print_response` method is used to display the agent's response in real-time (`stream=True`).\n",
    "\n",
    "This code sets up a web-based agent capable of retrieving and presenting information about quantum computing, while ensuring that the response includes sources and is formatted in Markdown.\n"
   ]
  },
  {
   "cell_type": "code",
   "execution_count": 5,
   "metadata": {},
   "outputs": [
    {
     "data": {
      "application/vnd.jupyter.widget-view+json": {
       "model_id": "df959de82e744e49a6313e63a6b883dd",
       "version_major": 2,
       "version_minor": 0
      },
      "text/plain": [
       "Output()"
      ]
     },
     "metadata": {},
     "output_type": "display_data"
    },
    {
     "data": {
      "text/html": [
       "<pre style=\"white-space:pre;overflow-x:auto;line-height:normal;font-family:Menlo,'DejaVu Sans Mono',consolas,'Courier New',monospace\">/Users/raamraam/outskill/GenAIEngineering-Cohort1/phidata/phidata_env/lib/python3.11/site-packages/phi/tools/duckdu\n",
       "ckgo.py:86: RuntimeWarning: This package (`duckduckgo_search`) has been renamed to `ddgs`! Use `pip install ddgs` \n",
       "instead.\n",
       "  ddgs = DDGS(\n",
       "</pre>\n"
      ],
      "text/plain": [
       "/Users/raamraam/outskill/GenAIEngineering-Cohort1/phidata/phidata_env/lib/python3.11/site-packages/phi/tools/duckdu\n",
       "ckgo.py:86: RuntimeWarning: This package (`duckduckgo_search`) has been renamed to `ddgs`! Use `pip install ddgs` \n",
       "instead.\n",
       "  ddgs = DDGS(\n"
      ]
     },
     "metadata": {},
     "output_type": "display_data"
    },
    {
     "data": {
      "text/html": [
       "<pre style=\"white-space:pre;overflow-x:auto;line-height:normal;font-family:Menlo,'DejaVu Sans Mono',consolas,'Courier New',monospace\"></pre>\n"
      ],
      "text/plain": []
     },
     "metadata": {},
     "output_type": "display_data"
    }
   ],
   "source": [
    "agent = Agent(\n",
    "    model=OpenAIChat(id=\"gpt-4o\"),\n",
    "    tools=[DuckDuckGo()],\n",
    "    markdown=True,\n",
    ")\n",
    "\n",
    "agent.print_response(\n",
    "    \"Tell me about this image and give me the latest news about it.\",\n",
    "    images=[\"https://upload.wikimedia.org/wikipedia/commons/b/bf/Krakow_-_Kosciol_Mariacki.jpg\"],\n",
    "    stream=True,\n",
    ")"
   ]
  },
  {
   "cell_type": "markdown",
   "metadata": {},
   "source": [
    "\n",
    "The following code performs the following tasks:\n",
    "\n",
    "1. **Importing Required Module**:\n",
    "    - `YFinanceTools` from `phi.tools.yfinance`: A tool that provides functionalities to fetch financial data such as stock prices, analyst recommendations, company information, and news.\n",
    "\n",
    "2. **Creating a Finance Agent**:\n",
    "    - An instance of the `Agent` class is created with the name `\"Finance Agent\"`.\n",
    "    - The agent uses the `OpenAIChat` model with the ID `\"gpt-4o\"`.\n",
    "    - The agent is equipped with the `YFinanceTools` tool, which is configured to fetch:\n",
    "        - Stock prices\n",
    "        - Analyst recommendations\n",
    "        - Company information\n",
    "        - Company news\n",
    "    - The agent is instructed to use tables to display data for better readability.\n",
    "    - The `show_tool_calls` parameter is set to `True`, enabling the display of tool calls during execution.\n",
    "    - The `markdown` parameter is set to `True`, ensuring that the agent's responses are formatted in Markdown.\n",
    "\n",
    "3. **Agent Interaction**:\n",
    "    - The agent is prompted with the query `\"Summarize analyst recommendations for NVDA\"`.\n",
    "    - The `print_response` method is used to display the agent's response in real-time (`stream=True`).\n",
    "\n",
    "This code sets up a finance-focused agent capable of retrieving and presenting financial data about NVIDIA (NVDA) in a structured and user-friendly format.\n"
   ]
  },
  {
   "cell_type": "code",
   "execution_count": 6,
   "metadata": {},
   "outputs": [
    {
     "data": {
      "application/vnd.jupyter.widget-view+json": {
       "model_id": "833c15f71412449389d16bb55170fa95",
       "version_major": 2,
       "version_minor": 0
      },
      "text/plain": [
       "Output()"
      ]
     },
     "metadata": {},
     "output_type": "display_data"
    },
    {
     "data": {
      "text/html": [
       "<pre style=\"white-space:pre;overflow-x:auto;line-height:normal;font-family:Menlo,'DejaVu Sans Mono',consolas,'Courier New',monospace\"></pre>\n"
      ],
      "text/plain": []
     },
     "metadata": {},
     "output_type": "display_data"
    }
   ],
   "source": [
    "from phi.tools.yfinance import YFinanceTools\n",
    "\n",
    "finance_agent = Agent(\n",
    "    name=\"Finance Agent\",\n",
    "    model=OpenAIChat(id=\"gpt-4o\"),\n",
    "    tools=[YFinanceTools(stock_price=True, analyst_recommendations=True, company_info=True, company_news=True)],\n",
    "    instructions=[\"Use tables to display data\"],\n",
    "    show_tool_calls=True,\n",
    "    markdown=True,\n",
    ")\n",
    "finance_agent.print_response(\"Summarize analyst recommendations for NVDA\", stream=True)"
   ]
  },
  {
   "cell_type": "markdown",
   "metadata": {},
   "source": [
    "\n",
    "The following code performs the following tasks:\n",
    "\n",
    "1. **Creating Multiple Agents**:\n",
    "    - Two agents are created:\n",
    "        - `web_agent`: This agent is designed to search the web for information. It uses the `OpenAIChat` model with the ID `\"gpt-4o\"` and is equipped with the `DuckDuckGo` tool. The agent is instructed to always include sources in its responses, display tool calls during execution, and format responses in Markdown.\n",
    "        - `finance_agent`: This agent is designed to retrieve financial data. It uses the `OpenAIChat` model with the ID `\"gpt-4o\"` and is equipped with the `YFinanceTools` tool, configured to fetch stock prices, analyst recommendations, and company information. The agent is instructed to use tables for better readability, display tool calls during execution, and format responses in Markdown.\n",
    "\n",
    "2. **Creating an Agent Team**:\n",
    "    - An `agent_team` is created by combining the `web_agent` and `finance_agent`. The team is given instructions to always include sources and use tables to display data. It is also configured to display tool calls and format responses in Markdown.\n",
    "\n",
    "3. **Agent Team Interaction**:\n",
    "    - The `agent_team` is prompted with the query `\"Summarize analyst recommendations and share the latest news for NVDA\"`.\n",
    "    - The `print_response` method is used to display the team’s response in real-time (`stream=True`).\n",
    "\n",
    "This code demonstrates how to create and manage multiple agents with distinct roles and combine them into a team to collaboratively handle complex queries.\n"
   ]
  },
  {
   "cell_type": "code",
   "execution_count": 7,
   "metadata": {},
   "outputs": [
    {
     "data": {
      "application/vnd.jupyter.widget-view+json": {
       "model_id": "ce44f4b30fb94f11880d0e395096a0fc",
       "version_major": 2,
       "version_minor": 0
      },
      "text/plain": [
       "Output()"
      ]
     },
     "metadata": {},
     "output_type": "display_data"
    },
    {
     "data": {
      "text/html": [
       "<pre style=\"white-space:pre;overflow-x:auto;line-height:normal;font-family:Menlo,'DejaVu Sans Mono',consolas,'Courier New',monospace\">/Users/raamraam/outskill/GenAIEngineering-Cohort1/phidata/phidata_env/lib/python3.11/site-packages/phi/tools/duckdu\n",
       "ckgo.py:86: RuntimeWarning: This package (`duckduckgo_search`) has been renamed to `ddgs`! Use `pip install ddgs` \n",
       "instead.\n",
       "  ddgs = DDGS(\n",
       "</pre>\n"
      ],
      "text/plain": [
       "/Users/raamraam/outskill/GenAIEngineering-Cohort1/phidata/phidata_env/lib/python3.11/site-packages/phi/tools/duckdu\n",
       "ckgo.py:86: RuntimeWarning: This package (`duckduckgo_search`) has been renamed to `ddgs`! Use `pip install ddgs` \n",
       "instead.\n",
       "  ddgs = DDGS(\n"
      ]
     },
     "metadata": {},
     "output_type": "display_data"
    },
    {
     "data": {
      "text/html": [
       "<pre style=\"white-space:pre;overflow-x:auto;line-height:normal;font-family:Menlo,'DejaVu Sans Mono',consolas,'Courier New',monospace\"></pre>\n"
      ],
      "text/plain": []
     },
     "metadata": {},
     "output_type": "display_data"
    }
   ],
   "source": [
    "web_agent = Agent(\n",
    "    name=\"Web Agent\",\n",
    "    role=\"Search the web for information\",\n",
    "    model=OpenAIChat(id=\"gpt-4o\"),\n",
    "    tools=[DuckDuckGo()],\n",
    "    instructions=[\"Always include sources\"],\n",
    "    show_tool_calls=True,\n",
    "    markdown=True,\n",
    ")\n",
    "\n",
    "finance_agent = Agent(\n",
    "    name=\"Finance Agent\",\n",
    "    role=\"Get financial data\",\n",
    "    model=OpenAIChat(id=\"gpt-4o\"),\n",
    "    tools=[YFinanceTools(stock_price=True, analyst_recommendations=True, company_info=True)],\n",
    "    instructions=[\"Use tables to display data\"],\n",
    "    show_tool_calls=True,\n",
    "    markdown=True,\n",
    ")\n",
    "\n",
    "agent_team = Agent(\n",
    "    team=[web_agent, finance_agent],\n",
    "    instructions=[\"Always include sources\", \"Use tables to display data\"],\n",
    "    show_tool_calls=True,\n",
    "    markdown=True,\n",
    ")\n",
    "\n",
    "agent_team.print_response(\"Summarize analyst recommendations and share the latest news for NVDA\", stream=True)"
   ]
  },
  {
   "cell_type": "markdown",
   "metadata": {},
   "source": [
    "\n",
    "The following code performs the following tasks:\n",
    "\n",
    "1. **Creating Multiple Agents**:\n",
    "    - Two agents are created:\n",
    "        - `web_agent`: This agent is designed to search the web for information. It uses the `OpenAIChat` model with the ID `\"gpt-4o\"` and is equipped with the `DuckDuckGo` tool. The agent is instructed to always include sources in its responses, display tool calls during execution, and format responses in Markdown.\n",
    "        - `finance_agent`: This agent is designed to retrieve financial data. It uses the `OpenAIChat` model with the ID `\"gpt-4o\"` and is equipped with the `YFinanceTools` tool, configured to fetch stock prices, analyst recommendations, and company information. The agent is instructed to use tables for better readability, display tool calls during execution, and format responses in Markdown.\n",
    "\n",
    "2. **Creating an Agent Team**:\n",
    "    - An `agent_team` is created by combining the `web_agent` and `finance_agent`. The team is given instructions to always include sources and use tables to display data. It is also configured to display tool calls and format responses in Markdown.\n",
    "\n",
    "3. **Agent Team Interaction**:\n",
    "    - The `agent_team` is prompted with the query `\"Summarize analyst recommendations and share the latest news for NVDA\"`.\n",
    "    - The `print_response` method is used to display the team’s response in real-time (`stream=True`).\n",
    "\n",
    "This code demonstrates how to create and manage multiple agents with distinct roles and combine them into a team to collaboratively handle complex queries.\n"
   ]
  },
  {
   "cell_type": "code",
   "execution_count": 8,
   "metadata": {},
   "outputs": [
    {
     "name": "stdout",
     "output_type": "stream",
     "text": [
      "Ulcerative colitis (UC) is a chronic inflammatory bowel disease (IBD) that primarily affects the colon (large intestine) and rectum. It is characterized by inflammation and the formation of ulcers in the lining of the colon. The condition can cause a variety of symptoms and has varying degrees of severity.\n",
      "\n",
      "### Symptoms\n",
      "- **Diarrhea**: Often with blood or pus.\n",
      "- **Abdominal pain and cramping**: Usually located in the lower abdomen.\n",
      "- **Rectal pain and bleeding**: Some patients experience significant bleeding.\n",
      "- **Urgency to defecate**: A frequent and urgent need to have bowel movements.\n",
      "- **Weight loss**: Due to decreased appetite and nutrient absorption.\n",
      "- **Fatigue and fever**: Common in more severe cases.\n",
      "\n",
      "### Causes\n",
      "The exact cause of ulcerative colitis is not well understood. However, it is believed to be the result of an abnormal immune response in the presence of certain environmental factors. Genetic factors also seem to play a role in predisposing individuals to the disease.\n",
      "\n",
      "### Diagnosis\n",
      "- **Colonoscopy**: A primary tool to view the colon and obtain biopsies.\n",
      "- **Stool tests**: To rule out infections.\n",
      "- **Blood tests**: To check for anemia or inflammation.\n",
      "- **Imaging tests**: Such as X-rays or CT scans.\n",
      "\n",
      "### Treatment\n",
      "- **Medications**: Include anti-inflammatory drugs, immune system suppressors, biologics, and others.\n",
      "- **Diet and Nutrition**: Identifying and avoiding food triggers, and ensuring proper nutrition.\n",
      "- **Surgery**: In severe cases, surgical removal of the colon may be necessary.\n",
      "\n",
      "### Complications\n",
      "Complications from ulcerative colitis can include severe bleeding, perforation of the colon, dehydration, and increased risk of colon cancer over time.\n",
      "\n",
      "### Living with UC\n",
      "Managing stress, maintaining a balanced diet, regular follow-ups with healthcare providers, and adherence to treatment plans are crucial for controlling symptoms and maintaining a good quality of life.\n",
      "\n",
      "If you are looking for recent scientific studies or more specific information about ulcerative colitis, I can look up recent research articles on PubMed. Let me know if you want me to proceed with that!\n"
     ]
    }
   ],
   "source": [
    "from phi.tools.pubmed import PubmedTools\n",
    "\n",
    "agent = Agent(tools=[PubmedTools()], show_tool_calls=True)\n",
    "# agent.print_response(\"Tell me about ulcerative colitis.\")\n",
    "result = agent.run(\"Tell me about ulcerative colitis.\")\n",
    "print(result.content)"
   ]
  },
  {
   "cell_type": "markdown",
   "metadata": {},
   "source": [
    "\n",
    "The following code performs the following tasks:\n",
    "\n",
    "1. **Importing Required Module**:\n",
    "    - `Crawl4aiTools` from `phi.tools.crawl4ai_tools`: A tool designed to crawl and extract information from web pages.\n",
    "\n",
    "2. **Creating an Agent**:\n",
    "    - An instance of the `Agent` class is created with the `Crawl4aiTools` tool.\n",
    "    - The `max_length` parameter for the tool is set to `None`, allowing the agent to process content of any length.\n",
    "    - The `show_tool_calls` parameter is set to `True`, enabling the display of tool calls during execution.\n",
    "\n",
    "3. **Agent Interaction**:\n",
    "    - The agent is prompted with the query `\"Tell me about https://github.com/agno-agi/phidata.\"`.\n",
    "    - The `print_response` method is used to display the agent's response.\n",
    "\n",
    "This code demonstrates how to use the `Crawl4aiTools` tool to extract and summarize information from a specific web page.\n"
   ]
  },
  {
   "cell_type": "code",
   "execution_count": 9,
   "metadata": {},
   "outputs": [
    {
     "name": "stderr",
     "output_type": "stream",
     "text": [
      "/Users/raamraam/outskill/GenAIEngineering-Cohort1/phidata/phidata_env/lib/python3.11/site-packages/pydantic/_internal/_config.py:323: PydanticDeprecatedSince20: Support for class-based `config` is deprecated, use ConfigDict instead. Deprecated in Pydantic V2.0 to be removed in V3.0. See Pydantic V2 Migration Guide at https://errors.pydantic.dev/2.11/migration/\n",
      "  warnings.warn(DEPRECATION_MESSAGE, DeprecationWarning)\n",
      "/Users/raamraam/outskill/GenAIEngineering-Cohort1/phidata/phidata_env/lib/python3.11/site-packages/pydantic/_internal/_config.py:323: PydanticDeprecatedSince20: Support for class-based `config` is deprecated, use ConfigDict instead. Deprecated in Pydantic V2.0 to be removed in V3.0. See Pydantic V2 Migration Guide at https://errors.pydantic.dev/2.11/migration/\n",
      "  warnings.warn(DEPRECATION_MESSAGE, DeprecationWarning)\n",
      "/Users/raamraam/outskill/GenAIEngineering-Cohort1/phidata/phidata_env/lib/python3.11/site-packages/snowballstemmer/serbian_stemmer.py:1420: ResourceWarning: unclosed <ssl.SSLSocket fd=95, family=30, type=1, proto=0, laddr=('2401:4900:8838:224a:5021:c5e3:462a:305a', 51927, 0, 0), raddr=('2606:4700:90d0:eaa1:32a5:0:ba36:2d7e', 443, 0, 0)>\n",
      "  Among(u\"tam\", 1236, 113),\n",
      "ResourceWarning: Enable tracemalloc to get the object allocation traceback\n"
     ]
    },
    {
     "data": {
      "application/vnd.jupyter.widget-view+json": {
       "model_id": "e65722b34e3f4c1981c6db356f51a76e",
       "version_major": 2,
       "version_minor": 0
      },
      "text/plain": [
       "Output()"
      ]
     },
     "metadata": {},
     "output_type": "display_data"
    },
    {
     "data": {
      "text/html": [
       "<pre style=\"white-space:pre;overflow-x:auto;line-height:normal;font-family:Menlo,'DejaVu Sans Mono',consolas,'Courier New',monospace\"><span style=\"color: #808000; text-decoration-color: #808000\">WARNING </span> Could not run function <span style=\"color: #800080; text-decoration-color: #800080; font-weight: bold\">web_crawler</span><span style=\"font-weight: bold\">(</span><span style=\"color: #808000; text-decoration-color: #808000\">url</span>=<span style=\"color: #0000ff; text-decoration-color: #0000ff; text-decoration: underline\">https://github.com/agno-agi/phidata)</span>                               \n",
       "</pre>\n"
      ],
      "text/plain": [
       "\u001b[33mWARNING \u001b[0m Could not run function \u001b[1;35mweb_crawler\u001b[0m\u001b[1m(\u001b[0m\u001b[33murl\u001b[0m=\u001b[4;94mhttps\u001b[0m\u001b[4;94m://github.com/agno-agi/phidata\u001b[0m\u001b[4;94m)\u001b[0m                               \n"
      ]
     },
     "metadata": {},
     "output_type": "display_data"
    },
    {
     "data": {
      "text/html": [
       "<pre style=\"white-space:pre;overflow-x:auto;line-height:normal;font-family:Menlo,'DejaVu Sans Mono',consolas,'Courier New',monospace\"><span style=\"color: #800000; text-decoration-color: #800000; font-weight: bold\">ERROR   </span> <span style=\"color: #800080; text-decoration-color: #800080; font-weight: bold\">asyncio.run</span><span style=\"font-weight: bold\">()</span> cannot be called from a running event loop                                                  \n",
       "         Traceback <span style=\"font-weight: bold\">(</span>most recent call last<span style=\"font-weight: bold\">)</span>:                                                                        \n",
       "           File                                                                                                    \n",
       "         <span style=\"color: #008000; text-decoration-color: #008000\">\"/Users/raamraam/outskill/GenAIEngineering-Cohort1/phidata/phidata_env/lib/python3.11/site-packages/phi/to</span>\n",
       "         <span style=\"color: #008000; text-decoration-color: #008000\">ols/function.py\"</span>, line <span style=\"color: #008080; text-decoration-color: #008080; font-weight: bold\">368</span>, in execute                                                                    \n",
       "             self.result = <span style=\"color: #800080; text-decoration-color: #800080; font-weight: bold\">self.function.entrypoint</span><span style=\"font-weight: bold\">(</span>**entrypoint_args, **self.arguments<span style=\"font-weight: bold\">)</span>                           \n",
       "                           ^^^^^^^^^^^^^^^^^^^^^^^^^^^^^^^^^^^^^^^^^^^^^^^^^^^^^^^^^^^^^                           \n",
       "           File                                                                                                    \n",
       "         <span style=\"color: #008000; text-decoration-color: #008000\">\"/Users/raamraam/outskill/GenAIEngineering-Cohort1/phidata/phidata_env/lib/python3.11/site-packages/pydant</span>\n",
       "         <span style=\"color: #008000; text-decoration-color: #008000\">ic/_internal/_validate_call.py\"</span>, line <span style=\"color: #008080; text-decoration-color: #008080; font-weight: bold\">39</span>, in wrapper_function                                             \n",
       "             return <span style=\"color: #800080; text-decoration-color: #800080; font-weight: bold\">wrapper</span><span style=\"font-weight: bold\">(</span>*args, **kwargs<span style=\"font-weight: bold\">)</span>                                                                       \n",
       "                    ^^^^^^^^^^^^^^^^^^^^^^^^                                                                       \n",
       "           File                                                                                                    \n",
       "         <span style=\"color: #008000; text-decoration-color: #008000\">\"/Users/raamraam/outskill/GenAIEngineering-Cohort1/phidata/phidata_env/lib/python3.11/site-packages/pydant</span>\n",
       "         <span style=\"color: #008000; text-decoration-color: #008000\">ic/_internal/_validate_call.py\"</span>, line <span style=\"color: #008080; text-decoration-color: #008080; font-weight: bold\">136</span>, in __call__                                                    \n",
       "             res = <span style=\"color: #800080; text-decoration-color: #800080; font-weight: bold\">self.__pydantic_validator__.validate_python</span><span style=\"font-weight: bold\">(</span><span style=\"color: #800080; text-decoration-color: #800080; font-weight: bold\">pydantic_core.ArgsKwargs</span><span style=\"font-weight: bold\">(</span>args, kwargs<span style=\"font-weight: bold\">))</span>             \n",
       "                   ^^^^^^^^^^^^^^^^^^^^^^^^^^^^^^^^^^^^^^^^^^^^^^^^^^^^^^^^^^^^^^^^^^^^^^^^^^^^^^^^^^^             \n",
       "           File                                                                                                    \n",
       "         <span style=\"color: #008000; text-decoration-color: #008000\">\"/Users/raamraam/outskill/GenAIEngineering-Cohort1/phidata/phidata_env/lib/python3.11/site-packages/phi/to</span>\n",
       "         <span style=\"color: #008000; text-decoration-color: #008000\">ols/crawl4ai_tools.py\"</span>, line <span style=\"color: #008080; text-decoration-color: #008080; font-weight: bold\">36</span>, in web_crawler                                                           \n",
       "             return <span style=\"color: #800080; text-decoration-color: #800080; font-weight: bold\">asyncio.run</span><span style=\"font-weight: bold\">(</span><span style=\"color: #800080; text-decoration-color: #800080; font-weight: bold\">self._async_web_crawler</span><span style=\"font-weight: bold\">(</span>url, max_length<span style=\"font-weight: bold\">))</span>                                          \n",
       "                    ^^^^^^^^^^^^^^^^^^^^^^^^^^^^^^^^^^^^^^^^^^^^^^^^^^^^^                                          \n",
       "           File                                                                                                    \n",
       "         <span style=\"color: #008000; text-decoration-color: #008000\">\"/usr/local/Cellar/python@3.11/3.11.4_1/Frameworks/Python.framework/Versions/3.11/lib/python3.11/asyncio/r</span>\n",
       "         <span style=\"color: #008000; text-decoration-color: #008000\">unners.py\"</span>, line <span style=\"color: #008080; text-decoration-color: #008080; font-weight: bold\">186</span>, in run                                                                              \n",
       "             raise <span style=\"color: #800080; text-decoration-color: #800080; font-weight: bold\">RuntimeError</span><span style=\"font-weight: bold\">(</span>                                                                                   \n",
       "         RuntimeError: <span style=\"color: #800080; text-decoration-color: #800080; font-weight: bold\">asyncio.run</span><span style=\"font-weight: bold\">()</span> cannot be called from a running event loop                                    \n",
       "</pre>\n"
      ],
      "text/plain": [
       "\u001b[1;31mERROR   \u001b[0m \u001b[1;35masyncio.run\u001b[0m\u001b[1m(\u001b[0m\u001b[1m)\u001b[0m cannot be called from a running event loop                                                  \n",
       "         Traceback \u001b[1m(\u001b[0mmost recent call last\u001b[1m)\u001b[0m:                                                                        \n",
       "           File                                                                                                    \n",
       "         \u001b[32m\"/Users/raamraam/outskill/GenAIEngineering-Cohort1/phidata/phidata_env/lib/python3.11/site-packages/phi/to\u001b[0m\n",
       "         \u001b[32mols/function.py\"\u001b[0m, line \u001b[1;36m368\u001b[0m, in execute                                                                    \n",
       "             self.result = \u001b[1;35mself.function.entrypoint\u001b[0m\u001b[1m(\u001b[0m**entrypoint_args, **self.arguments\u001b[1m)\u001b[0m                           \n",
       "                           ^^^^^^^^^^^^^^^^^^^^^^^^^^^^^^^^^^^^^^^^^^^^^^^^^^^^^^^^^^^^^                           \n",
       "           File                                                                                                    \n",
       "         \u001b[32m\"/Users/raamraam/outskill/GenAIEngineering-Cohort1/phidata/phidata_env/lib/python3.11/site-packages/pydant\u001b[0m\n",
       "         \u001b[32mic/_internal/_validate_call.py\"\u001b[0m, line \u001b[1;36m39\u001b[0m, in wrapper_function                                             \n",
       "             return \u001b[1;35mwrapper\u001b[0m\u001b[1m(\u001b[0m*args, **kwargs\u001b[1m)\u001b[0m                                                                       \n",
       "                    ^^^^^^^^^^^^^^^^^^^^^^^^                                                                       \n",
       "           File                                                                                                    \n",
       "         \u001b[32m\"/Users/raamraam/outskill/GenAIEngineering-Cohort1/phidata/phidata_env/lib/python3.11/site-packages/pydant\u001b[0m\n",
       "         \u001b[32mic/_internal/_validate_call.py\"\u001b[0m, line \u001b[1;36m136\u001b[0m, in __call__                                                    \n",
       "             res = \u001b[1;35mself.__pydantic_validator__.validate_python\u001b[0m\u001b[1m(\u001b[0m\u001b[1;35mpydantic_core.ArgsKwargs\u001b[0m\u001b[1m(\u001b[0margs, kwargs\u001b[1m)\u001b[0m\u001b[1m)\u001b[0m             \n",
       "                   ^^^^^^^^^^^^^^^^^^^^^^^^^^^^^^^^^^^^^^^^^^^^^^^^^^^^^^^^^^^^^^^^^^^^^^^^^^^^^^^^^^^             \n",
       "           File                                                                                                    \n",
       "         \u001b[32m\"/Users/raamraam/outskill/GenAIEngineering-Cohort1/phidata/phidata_env/lib/python3.11/site-packages/phi/to\u001b[0m\n",
       "         \u001b[32mols/crawl4ai_tools.py\"\u001b[0m, line \u001b[1;36m36\u001b[0m, in web_crawler                                                           \n",
       "             return \u001b[1;35masyncio.run\u001b[0m\u001b[1m(\u001b[0m\u001b[1;35mself._async_web_crawler\u001b[0m\u001b[1m(\u001b[0murl, max_length\u001b[1m)\u001b[0m\u001b[1m)\u001b[0m                                          \n",
       "                    ^^^^^^^^^^^^^^^^^^^^^^^^^^^^^^^^^^^^^^^^^^^^^^^^^^^^^                                          \n",
       "           File                                                                                                    \n",
       "         \u001b[32m\"/usr/local/Cellar/python@3.11/3.11.4_1/Frameworks/Python.framework/Versions/3.11/lib/python3.11/asyncio/r\u001b[0m\n",
       "         \u001b[32munners.py\"\u001b[0m, line \u001b[1;36m186\u001b[0m, in run                                                                              \n",
       "             raise \u001b[1;35mRuntimeError\u001b[0m\u001b[1m(\u001b[0m                                                                                   \n",
       "         RuntimeError: \u001b[1;35masyncio.run\u001b[0m\u001b[1m(\u001b[0m\u001b[1m)\u001b[0m cannot be called from a running event loop                                    \n"
      ]
     },
     "metadata": {},
     "output_type": "display_data"
    },
    {
     "data": {
      "text/html": [
       "<pre style=\"white-space:pre;overflow-x:auto;line-height:normal;font-family:Menlo,'DejaVu Sans Mono',consolas,'Courier New',monospace\">/Users/raamraam/outskill/GenAIEngineering-Cohort1/phidata/phidata_env/lib/python3.11/site-packages/phi/tools/functi\n",
       "on.py:378: RuntimeWarning: coroutine 'Crawl4aiTools._async_web_crawler' was never awaited\n",
       "  return function_call_success\n",
       "RuntimeWarning: Enable tracemalloc to get the object allocation traceback\n",
       "</pre>\n"
      ],
      "text/plain": [
       "/Users/raamraam/outskill/GenAIEngineering-Cohort1/phidata/phidata_env/lib/python3.11/site-packages/phi/tools/functi\n",
       "on.py:378: RuntimeWarning: coroutine 'Crawl4aiTools._async_web_crawler' was never awaited\n",
       "  return function_call_success\n",
       "RuntimeWarning: Enable tracemalloc to get the object allocation traceback\n"
      ]
     },
     "metadata": {},
     "output_type": "display_data"
    },
    {
     "data": {
      "text/html": [
       "<pre style=\"white-space:pre;overflow-x:auto;line-height:normal;font-family:Menlo,'DejaVu Sans Mono',consolas,'Courier New',monospace\"><span style=\"color: #808000; text-decoration-color: #808000\">WARNING </span> Could not run function <span style=\"color: #800080; text-decoration-color: #800080; font-weight: bold\">web_crawler</span><span style=\"font-weight: bold\">(</span><span style=\"color: #808000; text-decoration-color: #808000\">url</span>=<span style=\"color: #0000ff; text-decoration-color: #0000ff; text-decoration: underline\">https://github.com/agno-agi/phidata,</span> <span style=\"color: #808000; text-decoration-color: #808000\">max_length</span>=<span style=\"color: #008080; text-decoration-color: #008080; font-weight: bold\">300</span><span style=\"font-weight: bold\">)</span>               \n",
       "</pre>\n"
      ],
      "text/plain": [
       "\u001b[33mWARNING \u001b[0m Could not run function \u001b[1;35mweb_crawler\u001b[0m\u001b[1m(\u001b[0m\u001b[33murl\u001b[0m=\u001b[4;94mhttps\u001b[0m\u001b[4;94m://github.com/agno-agi/phidata,\u001b[0m \u001b[33mmax_length\u001b[0m=\u001b[1;36m300\u001b[0m\u001b[1m)\u001b[0m               \n"
      ]
     },
     "metadata": {},
     "output_type": "display_data"
    },
    {
     "data": {
      "text/html": [
       "<pre style=\"white-space:pre;overflow-x:auto;line-height:normal;font-family:Menlo,'DejaVu Sans Mono',consolas,'Courier New',monospace\"><span style=\"color: #800000; text-decoration-color: #800000; font-weight: bold\">ERROR   </span> <span style=\"color: #800080; text-decoration-color: #800080; font-weight: bold\">asyncio.run</span><span style=\"font-weight: bold\">()</span> cannot be called from a running event loop                                                  \n",
       "         Traceback <span style=\"font-weight: bold\">(</span>most recent call last<span style=\"font-weight: bold\">)</span>:                                                                        \n",
       "           File                                                                                                    \n",
       "         <span style=\"color: #008000; text-decoration-color: #008000\">\"/Users/raamraam/outskill/GenAIEngineering-Cohort1/phidata/phidata_env/lib/python3.11/site-packages/phi/to</span>\n",
       "         <span style=\"color: #008000; text-decoration-color: #008000\">ols/function.py\"</span>, line <span style=\"color: #008080; text-decoration-color: #008080; font-weight: bold\">368</span>, in execute                                                                    \n",
       "             self.result = <span style=\"color: #800080; text-decoration-color: #800080; font-weight: bold\">self.function.entrypoint</span><span style=\"font-weight: bold\">(</span>**entrypoint_args, **self.arguments<span style=\"font-weight: bold\">)</span>                           \n",
       "                           ^^^^^^^^^^^^^^^^^^^^^^^^^^^^^^^^^^^^^^^^^^^^^^^^^^^^^^^^^^^^^                           \n",
       "           File                                                                                                    \n",
       "         <span style=\"color: #008000; text-decoration-color: #008000\">\"/Users/raamraam/outskill/GenAIEngineering-Cohort1/phidata/phidata_env/lib/python3.11/site-packages/pydant</span>\n",
       "         <span style=\"color: #008000; text-decoration-color: #008000\">ic/_internal/_validate_call.py\"</span>, line <span style=\"color: #008080; text-decoration-color: #008080; font-weight: bold\">39</span>, in wrapper_function                                             \n",
       "             return <span style=\"color: #800080; text-decoration-color: #800080; font-weight: bold\">wrapper</span><span style=\"font-weight: bold\">(</span>*args, **kwargs<span style=\"font-weight: bold\">)</span>                                                                       \n",
       "                    ^^^^^^^^^^^^^^^^^^^^^^^^                                                                       \n",
       "           File                                                                                                    \n",
       "         <span style=\"color: #008000; text-decoration-color: #008000\">\"/Users/raamraam/outskill/GenAIEngineering-Cohort1/phidata/phidata_env/lib/python3.11/site-packages/pydant</span>\n",
       "         <span style=\"color: #008000; text-decoration-color: #008000\">ic/_internal/_validate_call.py\"</span>, line <span style=\"color: #008080; text-decoration-color: #008080; font-weight: bold\">136</span>, in __call__                                                    \n",
       "             res = <span style=\"color: #800080; text-decoration-color: #800080; font-weight: bold\">self.__pydantic_validator__.validate_python</span><span style=\"font-weight: bold\">(</span><span style=\"color: #800080; text-decoration-color: #800080; font-weight: bold\">pydantic_core.ArgsKwargs</span><span style=\"font-weight: bold\">(</span>args, kwargs<span style=\"font-weight: bold\">))</span>             \n",
       "                   ^^^^^^^^^^^^^^^^^^^^^^^^^^^^^^^^^^^^^^^^^^^^^^^^^^^^^^^^^^^^^^^^^^^^^^^^^^^^^^^^^^^             \n",
       "           File                                                                                                    \n",
       "         <span style=\"color: #008000; text-decoration-color: #008000\">\"/Users/raamraam/outskill/GenAIEngineering-Cohort1/phidata/phidata_env/lib/python3.11/site-packages/phi/to</span>\n",
       "         <span style=\"color: #008000; text-decoration-color: #008000\">ols/crawl4ai_tools.py\"</span>, line <span style=\"color: #008080; text-decoration-color: #008080; font-weight: bold\">36</span>, in web_crawler                                                           \n",
       "             return <span style=\"color: #800080; text-decoration-color: #800080; font-weight: bold\">asyncio.run</span><span style=\"font-weight: bold\">(</span><span style=\"color: #800080; text-decoration-color: #800080; font-weight: bold\">self._async_web_crawler</span><span style=\"font-weight: bold\">(</span>url, max_length<span style=\"font-weight: bold\">))</span>                                          \n",
       "                    ^^^^^^^^^^^^^^^^^^^^^^^^^^^^^^^^^^^^^^^^^^^^^^^^^^^^^                                          \n",
       "           File                                                                                                    \n",
       "         <span style=\"color: #008000; text-decoration-color: #008000\">\"/usr/local/Cellar/python@3.11/3.11.4_1/Frameworks/Python.framework/Versions/3.11/lib/python3.11/asyncio/r</span>\n",
       "         <span style=\"color: #008000; text-decoration-color: #008000\">unners.py\"</span>, line <span style=\"color: #008080; text-decoration-color: #008080; font-weight: bold\">186</span>, in run                                                                              \n",
       "             raise <span style=\"color: #800080; text-decoration-color: #800080; font-weight: bold\">RuntimeError</span><span style=\"font-weight: bold\">(</span>                                                                                   \n",
       "         RuntimeError: <span style=\"color: #800080; text-decoration-color: #800080; font-weight: bold\">asyncio.run</span><span style=\"font-weight: bold\">()</span> cannot be called from a running event loop                                    \n",
       "</pre>\n"
      ],
      "text/plain": [
       "\u001b[1;31mERROR   \u001b[0m \u001b[1;35masyncio.run\u001b[0m\u001b[1m(\u001b[0m\u001b[1m)\u001b[0m cannot be called from a running event loop                                                  \n",
       "         Traceback \u001b[1m(\u001b[0mmost recent call last\u001b[1m)\u001b[0m:                                                                        \n",
       "           File                                                                                                    \n",
       "         \u001b[32m\"/Users/raamraam/outskill/GenAIEngineering-Cohort1/phidata/phidata_env/lib/python3.11/site-packages/phi/to\u001b[0m\n",
       "         \u001b[32mols/function.py\"\u001b[0m, line \u001b[1;36m368\u001b[0m, in execute                                                                    \n",
       "             self.result = \u001b[1;35mself.function.entrypoint\u001b[0m\u001b[1m(\u001b[0m**entrypoint_args, **self.arguments\u001b[1m)\u001b[0m                           \n",
       "                           ^^^^^^^^^^^^^^^^^^^^^^^^^^^^^^^^^^^^^^^^^^^^^^^^^^^^^^^^^^^^^                           \n",
       "           File                                                                                                    \n",
       "         \u001b[32m\"/Users/raamraam/outskill/GenAIEngineering-Cohort1/phidata/phidata_env/lib/python3.11/site-packages/pydant\u001b[0m\n",
       "         \u001b[32mic/_internal/_validate_call.py\"\u001b[0m, line \u001b[1;36m39\u001b[0m, in wrapper_function                                             \n",
       "             return \u001b[1;35mwrapper\u001b[0m\u001b[1m(\u001b[0m*args, **kwargs\u001b[1m)\u001b[0m                                                                       \n",
       "                    ^^^^^^^^^^^^^^^^^^^^^^^^                                                                       \n",
       "           File                                                                                                    \n",
       "         \u001b[32m\"/Users/raamraam/outskill/GenAIEngineering-Cohort1/phidata/phidata_env/lib/python3.11/site-packages/pydant\u001b[0m\n",
       "         \u001b[32mic/_internal/_validate_call.py\"\u001b[0m, line \u001b[1;36m136\u001b[0m, in __call__                                                    \n",
       "             res = \u001b[1;35mself.__pydantic_validator__.validate_python\u001b[0m\u001b[1m(\u001b[0m\u001b[1;35mpydantic_core.ArgsKwargs\u001b[0m\u001b[1m(\u001b[0margs, kwargs\u001b[1m)\u001b[0m\u001b[1m)\u001b[0m             \n",
       "                   ^^^^^^^^^^^^^^^^^^^^^^^^^^^^^^^^^^^^^^^^^^^^^^^^^^^^^^^^^^^^^^^^^^^^^^^^^^^^^^^^^^^             \n",
       "           File                                                                                                    \n",
       "         \u001b[32m\"/Users/raamraam/outskill/GenAIEngineering-Cohort1/phidata/phidata_env/lib/python3.11/site-packages/phi/to\u001b[0m\n",
       "         \u001b[32mols/crawl4ai_tools.py\"\u001b[0m, line \u001b[1;36m36\u001b[0m, in web_crawler                                                           \n",
       "             return \u001b[1;35masyncio.run\u001b[0m\u001b[1m(\u001b[0m\u001b[1;35mself._async_web_crawler\u001b[0m\u001b[1m(\u001b[0murl, max_length\u001b[1m)\u001b[0m\u001b[1m)\u001b[0m                                          \n",
       "                    ^^^^^^^^^^^^^^^^^^^^^^^^^^^^^^^^^^^^^^^^^^^^^^^^^^^^^                                          \n",
       "           File                                                                                                    \n",
       "         \u001b[32m\"/usr/local/Cellar/python@3.11/3.11.4_1/Frameworks/Python.framework/Versions/3.11/lib/python3.11/asyncio/r\u001b[0m\n",
       "         \u001b[32munners.py\"\u001b[0m, line \u001b[1;36m186\u001b[0m, in run                                                                              \n",
       "             raise \u001b[1;35mRuntimeError\u001b[0m\u001b[1m(\u001b[0m                                                                                   \n",
       "         RuntimeError: \u001b[1;35masyncio.run\u001b[0m\u001b[1m(\u001b[0m\u001b[1m)\u001b[0m cannot be called from a running event loop                                    \n"
      ]
     },
     "metadata": {},
     "output_type": "display_data"
    },
    {
     "data": {
      "text/html": [
       "<pre style=\"white-space:pre;overflow-x:auto;line-height:normal;font-family:Menlo,'DejaVu Sans Mono',consolas,'Courier New',monospace\">/Users/raamraam/outskill/GenAIEngineering-Cohort1/phidata/phidata_env/lib/python3.11/site-packages/phi/tools/functi\n",
       "on.py:378: RuntimeWarning: coroutine 'Crawl4aiTools._async_web_crawler' was never awaited\n",
       "  return function_call_success\n",
       "RuntimeWarning: Enable tracemalloc to get the object allocation traceback\n",
       "</pre>\n"
      ],
      "text/plain": [
       "/Users/raamraam/outskill/GenAIEngineering-Cohort1/phidata/phidata_env/lib/python3.11/site-packages/phi/tools/functi\n",
       "on.py:378: RuntimeWarning: coroutine 'Crawl4aiTools._async_web_crawler' was never awaited\n",
       "  return function_call_success\n",
       "RuntimeWarning: Enable tracemalloc to get the object allocation traceback\n"
      ]
     },
     "metadata": {},
     "output_type": "display_data"
    },
    {
     "data": {
      "text/html": [
       "<pre style=\"white-space:pre;overflow-x:auto;line-height:normal;font-family:Menlo,'DejaVu Sans Mono',consolas,'Courier New',monospace\"></pre>\n"
      ],
      "text/plain": []
     },
     "metadata": {},
     "output_type": "display_data"
    }
   ],
   "source": [
    "from phi.tools.crawl4ai_tools import Crawl4aiTools\n",
    "\n",
    "agent = Agent(tools=[Crawl4aiTools(max_length=None)], show_tool_calls=True)\n",
    "agent.print_response(\"Tell me about https://github.com/agno-agi/phidata.\")"
   ]
  },
  {
   "cell_type": "markdown",
   "metadata": {},
   "source": [
    "\n",
    "The following code performs the following tasks:\n",
    "\n",
    "1. **Importing Required Modules**:\n",
    "    - `json`: A module for working with JSON data.\n",
    "    - `httpx`: A library for making HTTP requests.\n",
    "    - `Agent` from `phi.agent`: Used to create an agent for interacting with tools.\n",
    "\n",
    "2. **Defining a Function**:\n",
    "    - `get_top_hackernews_stories`: A function that retrieves the top stories from Hacker News.\n",
    "        - **Arguments**:\n",
    "            - `num_stories` (default: 10): Specifies the number of top stories to fetch.\n",
    "        - **Steps**:\n",
    "            - Sends a GET request to the Hacker News API to fetch the IDs of the top stories.\n",
    "            - Iterates through the top `num_stories` IDs and fetches the details of each story.\n",
    "            - Removes the `\"text\"` field from the story details (if present) to simplify the output.\n",
    "            - Returns the story details as a JSON string.\n",
    "\n",
    "3. **Creating an Agent**:\n",
    "    - An instance of the `Agent` class is created with the `get_top_hackernews_stories` function as a tool.\n",
    "    - The agent is configured with the following parameters:\n",
    "        - `show_tool_calls=True`: Displays the tool calls during execution.\n",
    "        - `markdown=True`: Ensures that the agent's responses are formatted in Markdown.\n",
    "\n",
    "4. **Agent Interaction**:\n",
    "    - The agent is prompted with the query `\"Summarize the top 5 stories on hackernews?\"`.\n",
    "    - The `print_response` method is used to display the agent's response in real-time (`stream=True`).\n",
    "\n",
    "This code demonstrates how to use an agent to fetch and summarize the top stories from Hacker News, leveraging the `httpx` library for API requests and the `phi.agent` framework for interaction.\n"
   ]
  },
  {
   "cell_type": "code",
   "execution_count": 10,
   "metadata": {},
   "outputs": [
    {
     "data": {
      "application/vnd.jupyter.widget-view+json": {
       "model_id": "74580644d7c3433184aa6d1c65450ff9",
       "version_major": 2,
       "version_minor": 0
      },
      "text/plain": [
       "Output()"
      ]
     },
     "metadata": {},
     "output_type": "display_data"
    },
    {
     "data": {
      "text/html": [
       "<pre style=\"white-space:pre;overflow-x:auto;line-height:normal;font-family:Menlo,'DejaVu Sans Mono',consolas,'Courier New',monospace\"></pre>\n"
      ],
      "text/plain": []
     },
     "metadata": {},
     "output_type": "display_data"
    }
   ],
   "source": [
    "import json\n",
    "import httpx\n",
    "\n",
    "from phi.agent import Agent\n",
    "\n",
    "\n",
    "def get_top_hackernews_stories(num_stories: int = 10) -> str:\n",
    "    \"\"\"Use this function to get top stories from Hacker News.\n",
    "\n",
    "    Args:\n",
    "        num_stories (int): Number of stories to return. Defaults to 10.\n",
    "\n",
    "    Returns:\n",
    "        str: JSON string of top stories.\n",
    "    \"\"\"\n",
    "\n",
    "    # Fetch top story IDs\n",
    "    response = httpx.get('https://hacker-news.firebaseio.com/v0/topstories.json')\n",
    "    story_ids = response.json()\n",
    "\n",
    "    # Fetch story details\n",
    "    stories = []\n",
    "    for story_id in story_ids[:num_stories]:\n",
    "        story_response = httpx.get(f'https://hacker-news.firebaseio.com/v0/item/{story_id}.json')\n",
    "        story = story_response.json()\n",
    "        if \"text\" in story:\n",
    "            story.pop(\"text\", None)\n",
    "        stories.append(story)\n",
    "    return json.dumps(stories)\n",
    "\n",
    "agent = Agent(tools=[get_top_hackernews_stories], show_tool_calls=True, markdown=True)\n",
    "agent.print_response(\"Summarize the top 5 stories on hackernews?\", stream=True)"
   ]
  },
  {
   "cell_type": "markdown",
   "metadata": {},
   "source": [
    "\n",
    "The following code performs the following tasks:\n",
    "\n",
    "1. **Importing Required Modules**:\n",
    "    - `Agent` from `phi.agent`: Used to create an agent for interacting with tools.\n",
    "    - `EmailTools` from `phi.tools.email`: A tool designed to send emails.\n",
    "\n",
    "2. **Defining Email Parameters**:\n",
    "    - `receiver_email`: The email address of the recipient.\n",
    "    - `sender_email`: The email address of the sender.\n",
    "    - `sender_name`: The name of the sender.\n",
    "    - `sender_passkey`: (Commented out) A passkey for authentication, if required.\n",
    "\n",
    "3. **Creating an Agent**:\n",
    "    - An instance of the `Agent` class is created with the `EmailTools` tool.\n",
    "    - The `EmailTools` tool is configured with the `receiver_email`, `sender_email`, and `sender_name` parameters.\n",
    "    - The agent is configured with the following parameters:\n",
    "        - `markdown=True`: Ensures that the agent's responses are formatted in Markdown.\n",
    "        - `show_tool_calls=True`: Displays the tool calls during execution.\n",
    "        - `debug=True`: Enables debug mode for detailed logging.\n",
    "        - `reasoning=True`: Enables reasoning capabilities for the agent.\n",
    "\n",
    "4. **Agent Interaction**:\n",
    "    - The agent is prompted with the query `\"send an email to <receiver_email>\"`.\n",
    "    - The `print_response` method is used to display the agent's response.\n",
    "\n",
    "This code demonstrates how to use the `EmailTools` tool to send an email, leveraging the `phi.agent` framework for interaction.\n"
   ]
  },
  {
   "cell_type": "code",
   "execution_count": 11,
   "metadata": {},
   "outputs": [
    {
     "data": {
      "application/vnd.jupyter.widget-view+json": {
       "model_id": "b14b0f456e324caa97e168920c370a66",
       "version_major": 2,
       "version_minor": 0
      },
      "text/plain": [
       "Output()"
      ]
     },
     "metadata": {},
     "output_type": "display_data"
    },
    {
     "data": {
      "text/html": [
       "<pre style=\"white-space:pre;overflow-x:auto;line-height:normal;font-family:Menlo,'DejaVu Sans Mono',consolas,'Courier New',monospace\"></pre>\n"
      ],
      "text/plain": []
     },
     "metadata": {},
     "output_type": "display_data"
    }
   ],
   "source": [
    "from phi.agent import Agent\n",
    "from phi.tools.email import EmailTools\n",
    "\n",
    "receiver_email = \"rm.ramanathan@gmail.com\"\n",
    "sender_email = \"test@gmai.com\"\n",
    "sender_name = \"<Ram>\"\n",
    "# sender_passkey = \"<sender_passkey>\"\n",
    "\n",
    "agent = Agent(\n",
    "    tools=[\n",
    "        EmailTools(\n",
    "            receiver_email=receiver_email,\n",
    "            sender_email=sender_email,\n",
    "            sender_name=sender_name,\n",
    "            # sender_passkey=sender_passkey,\n",
    "        )\n",
    "    ],\n",
    "    markdown=True,\n",
    "    show_tool_calls=True,\n",
    "    debug=True,\n",
    "    reasoning=True,\n",
    ")\n",
    "agent.print_response(\"send an email to <receiver_email>\")\n"
   ]
  },
  {
   "cell_type": "markdown",
   "metadata": {},
   "source": [
    "\n",
    "The following code performs the following tasks:\n",
    "\n",
    "1. **Importing Required Modules**:\n",
    "    - `Agent` from `phi.agent`: Used to create an agent for interacting with tools.\n",
    "    - `ResendTools` from `phi.tools.resend_tools`: A tool designed to send emails using the Resend API.\n",
    "\n",
    "2. **Defining Email Parameters**:\n",
    "    - `from_email`: The email address of the sender.\n",
    "    - `to_email`: The email address of the recipient.\n",
    "\n",
    "3. **Creating an Agent**:\n",
    "    - An instance of the `Agent` class is created with the `ResendTools` tool.\n",
    "    - The `ResendTools` tool is configured with the `from_email` parameter.\n",
    "    - The agent is configured with the `show_tool_calls=True` parameter, enabling the display of tool calls during execution.\n",
    "\n",
    "4. **Agent Interaction**:\n",
    "    - The agent is prompted with the query `\"Send an email to {to_email} greeting them with hello world\"`.\n",
    "    - The `print_response` method is used to display the agent's response.\n",
    "\n",
    "This code demonstrates how to use the `ResendTools` tool to send an email, leveraging the `phi.agent` framework for interaction.\n"
   ]
  },
  {
   "cell_type": "code",
   "execution_count": 12,
   "metadata": {},
   "outputs": [
    {
     "data": {
      "application/vnd.jupyter.widget-view+json": {
       "model_id": "016f5fc5263f45f2875a49de0de09604",
       "version_major": 2,
       "version_minor": 0
      },
      "text/plain": [
       "Output()"
      ]
     },
     "metadata": {},
     "output_type": "display_data"
    },
    {
     "data": {
      "text/html": [
       "<pre style=\"white-space:pre;overflow-x:auto;line-height:normal;font-family:Menlo,'DejaVu Sans Mono',consolas,'Courier New',monospace\"><span style=\"color: #000080; text-decoration-color: #000080\">INFO    </span> Sending email to: rm.ramanathan@gmail.com                                                                 \n",
       "</pre>\n"
      ],
      "text/plain": [
       "\u001b[34mINFO    \u001b[0m Sending email to: rm.ramanathan@gmail.com                                                                 \n"
      ]
     },
     "metadata": {},
     "output_type": "display_data"
    },
    {
     "data": {
      "text/html": [
       "<pre style=\"white-space:pre;overflow-x:auto;line-height:normal;font-family:Menlo,'DejaVu Sans Mono',consolas,'Courier New',monospace\"><span style=\"color: #800000; text-decoration-color: #800000; font-weight: bold\">ERROR   </span> Failed to send email Unknown error                                                                        \n",
       "</pre>\n"
      ],
      "text/plain": [
       "\u001b[1;31mERROR   \u001b[0m Failed to send email Unknown error                                                                        \n"
      ]
     },
     "metadata": {},
     "output_type": "display_data"
    },
    {
     "data": {
      "text/html": [
       "<pre style=\"white-space:pre;overflow-x:auto;line-height:normal;font-family:Menlo,'DejaVu Sans Mono',consolas,'Courier New',monospace\"></pre>\n"
      ],
      "text/plain": []
     },
     "metadata": {},
     "output_type": "display_data"
    }
   ],
   "source": [
    "\n",
    "from phi.agent import Agent\n",
    "from phi.tools.resend_tools import ResendTools\n",
    "\n",
    "from_email = \"rm.ramanathan@gmail.com\"\n",
    "to_email = \"rm.ramanathan@gmail.com\"\n",
    "\n",
    "agent = Agent(tools=[ResendTools(from_email=from_email)], show_tool_calls=True)\n",
    "agent.print_response(f\"Send an email to {to_email} greeting them with hello world\")"
   ]
  }
 ],
 "metadata": {
  "kernelspec": {
   "display_name": "phidata_env",
   "language": "python",
   "name": "python3"
  },
  "language_info": {
   "codemirror_mode": {
    "name": "ipython",
    "version": 3
   },
   "file_extension": ".py",
   "mimetype": "text/x-python",
   "name": "python",
   "nbconvert_exporter": "python",
   "pygments_lexer": "ipython3",
   "version": "3.11.4"
  }
 },
 "nbformat": 4,
 "nbformat_minor": 2
}
