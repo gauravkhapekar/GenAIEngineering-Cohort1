{
 "cells": [
  {
   "cell_type": "code",
   "execution_count": 1,
   "metadata": {},
   "outputs": [],
   "source": [
    "# ! pip install ipykernel phidata openai ddgs yfinance sqlalchemy fastapi python-multipart ipywidgets uvicorn crawl4ai duckdb httpx resend pgvector psycopg psycopg2-binary chromadb lancedb fastmcp pypdf markdown"
   ]
  },
  {
   "cell_type": "markdown",
   "metadata": {},
   "source": []
  },
  {
   "cell_type": "markdown",
   "metadata": {},
   "source": [
    "\n",
    "The code in the next cell performs the following actions:\n",
    "\n",
    "1. **Importing Modules**:\n",
    "    - `os`: Provides a way to interact with the operating system.\n",
    "    - `load_dotenv` from `dotenv`: Loads environment variables from a `.env` file into the system environment.\n",
    "\n",
    "2. **Loading Environment Variables**:\n",
    "    - `load_dotenv()`: Reads the `.env` file and loads the variables into the environment.\n",
    "\n",
    "3. **Clearing Conflicting Environment Variables**:\n",
    "    - A list of environment variables (`OPENAI_API_KEY`, `OPENAI_BASE_URL`, `OPENAI_API_BASE`) is defined.\n",
    "    - For each variable in the list, if it exists in the environment, it is removed to avoid conflicts. A warning message is printed for each removed variable.\n",
    "\n",
    "4. **Setting New Environment Variables**:\n",
    "    - The `OPENAI_API_KEY` environment variable is set to the value of `OPEN_AI_KEY` from the environment.\n",
    "\n",
    "This setup ensures that the environment is properly configured and free of conflicts before proceeding with further operations.\n"
   ]
  },
  {
   "cell_type": "code",
   "execution_count": 2,
   "metadata": {},
   "outputs": [],
   "source": [
    "\n",
    "import os\n",
    "from dotenv import load_dotenv\n",
    "# Load environment variables\n",
    "load_dotenv()\n",
    "\n",
    "\n",
    "# env_vars_to_clear = ['OPENAI_API_KEY', 'OPENAI_BASE_URL', 'OPENAI_API_BASE']\n",
    "# for var in env_vars_to_clear:\n",
    "#     if os.getenv(var):\n",
    "#         print(f\"⚠️  Removing conflicting {var}\")\n",
    "#         del os.environ[var]\n",
    "\n",
    "\n",
    "# os.environ[\"OPENAI_API_KEY\"] = os.getenv(\"OPEN_ROUTER_KEY\")\n",
    "# os.environ['OPENAI_API_BASE'] = 'https://openrouter.ai/api/v1'\n",
    "# os.environ['OPENAI_BASE_URL'] = 'https://openrouter.ai/api/v1'\n",
    "\n",
    "\n",
    "\n",
    "env_vars_to_clear = ['OPENAI_API_KEY', 'OPENAI_BASE_URL', 'OPENAI_API_BASE']\n",
    "for var in env_vars_to_clear:\n",
    "    if os.getenv(var):\n",
    "        print(f\"⚠️  Removing conflicting {var}\")\n",
    "        del os.environ[var]\n",
    "os.environ[\"OPENAI_API_KEY\"] = os.getenv(\"OPEN_AI_KEY\")\n",
    "\n",
    "\n",
    "\n"
   ]
  },
  {
   "cell_type": "markdown",
   "metadata": {},
   "source": [
    "\n",
    "The code in the next cell performs the following actions:\n",
    "\n",
    "1. **Importing Modules**:\n",
    "    - `os`: Provides a way to interact with the operating system.\n",
    "    - `load_dotenv` from `dotenv`: Loads environment variables from a `.env` file into the system environment.\n",
    "\n",
    "2. **Loading Environment Variables**:\n",
    "    - `load_dotenv()`: Reads the `.env` file and loads the variables into the environment.\n",
    "\n",
    "3. **Clearing Conflicting Environment Variables**:\n",
    "    - A list of environment variables (`OPENAI_API_KEY`, `OPENAI_BASE_URL`, `OPENAI_API_BASE`) is defined.\n",
    "    - For each variable in the list, if it exists in the environment, it is removed to avoid conflicts. A warning message is printed for each removed variable.\n",
    "\n",
    "4. **Setting New Environment Variables**:\n",
    "    - The `OPENAI_API_KEY` environment variable is set to the value of `OPEN_AI_KEY` from the environment.\n",
    "\n",
    "This setup ensures that the environment is properly configured and free of conflicts before proceeding with further operations.\n"
   ]
  },
  {
   "cell_type": "code",
   "execution_count": 3,
   "metadata": {},
   "outputs": [],
   "source": [
    "# Install the phidata library and import necessary modules for working with agents, tools, knowledge, and storage components.\n",
    "\n",
    "# Install the phidata library\n",
    "# ! pip install phidata\n",
    "\n",
    "# Import necessary modules from phidata\n",
    "from phi.agent import Agent\n",
    "from phi.tools import Tool\n",
    "from phi.model.openai import OpenAIChat\n"
   ]
  },
  {
   "cell_type": "markdown",
   "metadata": {},
   "source": [
    "```markdown\n",
    "The code in the next cell performs the following actions:\n",
    "\n",
    "1. **Importing Modules**:\n",
    "    - `Agent` and `AgentKnowledge` from `phi.agent`: These are used to create an intelligent agent and manage its knowledge base.\n",
    "    - `OpenAIEmbedder` from `phi.embedder.openai`: This is used to generate embeddings for text using OpenAI's embedding models.\n",
    "    - `LanceDb` and `SearchType` from `phi.vectordb.lancedb`: These are used to manage a vector database for storing and searching embeddings.\n",
    "\n",
    "2. **Creating a Knowledge Base**:\n",
    "    - An `AgentKnowledge` object is created with a `LanceDb` vector database.\n",
    "    - The vector database is configured with:\n",
    "        - `table_name`: The name of the table in the database (`\"recipes\"`).\n",
    "        - `uri`: The location of the database (`\"tmp/lancedb\"`).\n",
    "        - `search_type`: The type of search to perform (`SearchType.vector`).\n",
    "        - `embedder`: The embedding model to use (`OpenAIEmbedder` with the model `\"text-embedding-3-small\"`).\n",
    "\n",
    "3. **Adding Information to the Knowledge Base**:\n",
    "    - A sample text (`\"The sky is green\"`) is loaded into the knowledge base.\n",
    "\n",
    "4. **Creating an Agent**:\n",
    "    - An `Agent` object is created with the knowledge base.\n",
    "    - The agent is configured to search the knowledge base when needed (`search_knowledge=True`).\n",
    "\n",
    "This setup initializes an intelligent agent with a knowledge base that can store and retrieve information using vector embeddings.\n",
    "```"
   ]
  },
  {
   "cell_type": "code",
   "execution_count": 4,
   "metadata": {},
   "outputs": [
    {
     "data": {
      "text/html": [
       "<pre style=\"white-space:pre;overflow-x:auto;line-height:normal;font-family:Menlo,'DejaVu Sans Mono',consolas,'Courier New',monospace\"><span style=\"color: #000080; text-decoration-color: #000080\">INFO    </span> Loading knowledge base                                                                                    \n",
       "</pre>\n"
      ],
      "text/plain": [
       "\u001b[34mINFO    \u001b[0m Loading knowledge base                                                                                    \n"
      ]
     },
     "metadata": {},
     "output_type": "display_data"
    },
    {
     "data": {
      "text/html": [
       "<pre style=\"white-space:pre;overflow-x:auto;line-height:normal;font-family:Menlo,'DejaVu Sans Mono',consolas,'Courier New',monospace\"><span style=\"color: #000080; text-decoration-color: #000080\">INFO    </span> No new documents to load                                                                                  \n",
       "</pre>\n"
      ],
      "text/plain": [
       "\u001b[34mINFO    \u001b[0m No new documents to load                                                                                  \n"
      ]
     },
     "metadata": {},
     "output_type": "display_data"
    }
   ],
   "source": [
    "from phi.agent import Agent, AgentKnowledge\n",
    "from phi.embedder.openai import OpenAIEmbedder\n",
    "from phi.vectordb.lancedb import LanceDb, SearchType\n",
    "\n",
    "\n",
    "# Create a knowledge base for the Agent\n",
    "knowledge_base = AgentKnowledge(vector_db=LanceDb(\n",
    "        table_name=\"recipes\",\n",
    "        uri=\"tmp/lancedb\",\n",
    "        search_type=SearchType.vector,\n",
    "        embedder=OpenAIEmbedder(model=\"text-embedding-3-small\")\n",
    "        \n",
    "    ),)\n",
    "\n",
    "\n",
    "\n",
    "# Add information to the knowledge base\n",
    "knowledge_base.load_text(\"The sky is green\")\n",
    "\n",
    "# Add the knowledge base to the Agent and\n",
    "# give it a tool to search the knowledge base as needed\n",
    "agent = Agent(knowledge=knowledge_base, search_knowledge=True)"
   ]
  },
  {
   "cell_type": "markdown",
   "metadata": {},
   "source": [
    "\n",
    "The code in the next cell performs the following actions:\n",
    "\n",
    "1. **Running the Agent**:\n",
    "    - The `run` method of the `agent` object is called with the input `\"answer from the knowledge base, what is the color of sky?\"`.\n",
    "    - This prompts the agent to search its knowledge base and provide an answer based on the stored information.\n",
    "\n",
    "2. **Knowledge Base Query**:\n",
    "    - The agent uses its configured knowledge base to retrieve relevant information.\n",
    "    - In this case, the knowledge base contains the text `\"The sky is green\"`, which will be used to generate a response.\n",
    "\n",
    "This code demonstrates how the agent interacts with its knowledge base to answer a specific query.\n"
   ]
  },
  {
   "cell_type": "code",
   "execution_count": 5,
   "metadata": {},
   "outputs": [
    {
     "data": {
      "text/plain": [
       "RunResponse(content='According to the knowledge base, \"The sky is green.\"', content_type='str', event='RunResponse', messages=[Message(role='user', content='answer from the knowledge base, what is the color of sky?', name=None, tool_call_id=None, tool_calls=None, audio=None, images=None, videos=None, tool_name=None, tool_args=None, tool_call_error=None, stop_after_tool_call=False, metrics={}, references=None, created_at=1752818194), Message(role='assistant', content=None, name=None, tool_call_id=None, tool_calls=[{'id': 'call_q5bDqfzlpOFeX6IFor2Pe8Ef', 'function': {'arguments': '{\"query\":\"color of the sky\"}', 'name': 'search_knowledge_base'}, 'type': 'function'}], audio=None, images=None, videos=None, tool_name=None, tool_args=None, tool_call_error=None, stop_after_tool_call=False, metrics={'time': 1.839986541774124, 'input_tokens': 76, 'prompt_tokens': 76, 'output_tokens': 19, 'completion_tokens': 19, 'total_tokens': 95, 'prompt_tokens_details': {'audio_tokens': 0, 'cached_tokens': 0}, 'completion_tokens_details': {'accepted_prediction_tokens': 0, 'audio_tokens': 0, 'reasoning_tokens': 0, 'rejected_prediction_tokens': 0}}, references=None, created_at=1752818196), Message(role='tool', content='[\\n  {\\n    \"content\": \"The sky is green\",\\n    \"meta_data\": {}\\n  },\\n  {\\n    \"content\": \"C O O K B O O K www.thaiselect.com www.thaiselect.com \",\\n    \"name\": \"ThaiRecipes\",\\n    \"meta_data\": {\\n      \"page\": 1,\\n      \"chunk\": 1,\\n      \"chunk_size\": 54\\n    }\\n  },\\n  {\\n    \"content\": \"HEALTH BENEFITS Vitamin A, B6, C, E, K, Magnesium, Manganese, Phosphorus, Potassium Preparation: 10 mins Cooking: 25 mins Total: 35 mins Spicy Level: Gaeng Kiew Wan Goong Green Curry with Shrimps { } INGREDIENTS (Two servings) 8 peeled Thai shrimps 100 grams round eggplant or brinjal, chopped into four pieces 100 grams coconut cream (the top layer of coconut milk) 500 grams coconut milk 40 grams Kiew Wan curry paste 20 grams palm sugar 2 tbsp fish sauce 2 sliced red spur chilies 4 grams sweet basil leaves 2 leaves kaffir lime, shredded Directions: 1. Simmer coconut cream in a pan until the oil separates. Add Kiew Wan curry paste and stir until it dissolves. 2. Add shrimps and fry until well cooked. Pour into a pot then add coconut milk. Bring to full boil over medium heat. 3. Add round eggplant or brinjal and season with fish sauce and palm sugar. When the curry returns to a boil, the round eggplant or brinjal will be cooked. 4. Add red spur chilies, shredded kaffir lime leaves and sweet basil leaves. Serve in a bowl. Tips: \\\\u2022 If the curry paste is burned while frying, the curry will be darker than usual and have a slightly bitter taste. Likewise, if undercooked, it will appear pale in color and mild in taste and aroma. \\\\u2022 As an alternative, shrimp can be replaced with chicken, pork or beef. \\\\u2022 To keep the round eggplant or brinjal fresh and green, cut and soak in slightly salted water. Only use when the curry is fully boiling. T H A I S E L E C T C O O K B O O K | 1 3 35 Min\",\\n    \"name\": \"ThaiRecipes\",\\n    \"meta_data\": {\\n      \"page\": 8,\\n      \"chunk\": 1,\\n      \"chunk_size\": 1497\\n    }\\n  },\\n  {\\n    \"content\": \"Directions: 1. Briefly grill the beef until cooked. 2. In a bowl, mix the glass noodles, chicken stock and beef with garlic, onion, chilies, celery, fish sauce, lime juice and tomatoes. If the salad is too dry, add more chicken stock. Taste and add more fish sauce and lime juice if necessary. 3. To serve, simply place on a serving plate. Sprinkle with fried dried shrimps and garnish with coriander leaves. Tips: \\\\u2022 Before cooking, soak the glass noodles in cold water for 10 minutes and drain. Pour hot water over the noodles through a strainer . After cooked in hot water , quickly soak in cold water for a few minutes and strain. Mix with other ingredients when ready to serve. \\\\u2022 To retain its freshness, vegetables such as tomatoes, onions and celery should be added last. \\\\u2022 Crushed roasted peanuts may be added as desired. INGREDIENTS (One serving) 200 grams cooked glass noodles 100 grams grilled beef 20 grams dried shrimps, fried until crispy 4 cloves garlic, minced 1 onion, julienned 2-3 Thai chilies, sliced thinly 2 stalks Thai celery, chopped 2 tbsp fish sauce 2 tbsp lime juice 5 cherry tomatoes, halved 1 tbsp chopped coriander 4 tsp chicken stock 5 leaves coriander HEALTH BENEFITS Vitamin A, B1, B2, B6, C, K, Folate, Calcium, Iron, Potassium Preparation: 20 mins Cooking: 10 mins Total: 30 mins Spicy Level: { }Yum Woon Sen Neua Spicy Beef Glass Noodles Salad T H A I S E L E C T C O O K B O O K | 1 1 30 Min\",\\n    \"name\": \"ThaiRecipes\",\\n    \"meta_data\": {\\n      \"page\": 7,\\n      \"chunk\": 1,\\n      \"chunk_size\": 1427\\n    }\\n  },\\n  {\\n    \"content\": \"INGREDIENTS (One serving) 150 grams chicken, cut into bite-size pieces 50 grams sliced young galangal 100 grams lightly crushed lemongrass, julienned 100 grams straw mushrooms 250 grams coconut milk 100 grams chicken stock 3 tbsp lime juice 3 tbsp fish sauce 2 leaves kaffir lime, shredded 1-2 bird\\\\u2019s eye chilies, pounded 3 leaves coriander Preparation: 10 mins Cooking: 20 mins Total: 30 mins Spicy Level: HEALTH BENEFITS Vitamin A, B1, B2, B6, C, E, K, Folate, Copper, Iron, Phosphorus Directions: 1. Bring the chicken stock and coconut milk to a slow boil. Add galangal, lemongrass, chicken and mushrooms. When the soup returns to a boil, season it with fish sauce. 2. Wait until the chicken is cooked, and then add the kaffir lime leaves and bird\\\\u2019s eye chilies. Remove the pot from heat and add lime juice. 3. Garnish with coriander leaves. Tips: \\\\u2022 Keep the heat low throughout the cooking process. High heat will make the oil in the coconut milk separate and rise to the top. \\\\u2022 If you\\\\u2019re using mature galangal, reduce the amount. \\\\u2022 Lime juice becomes more aromatic when it is added after the pot is removed from heat. \\\\u2022 Reduce amount of chilies for a milder taste. { }Tom Kha Gai Chicken and Galangal in Coconut Milk Soup T H A I S E L E C T C O O K B O O K | 0 7 30 Min\",\\n    \"name\": \"ThaiRecipes\",\\n    \"meta_data\": {\\n      \"page\": 5,\\n      \"chunk\": 1,\\n      \"chunk_size\": 1275\\n    }\\n  }\\n]', name=None, tool_call_id='call_q5bDqfzlpOFeX6IFor2Pe8Ef', tool_calls=None, audio=None, images=None, videos=None, tool_name='search_knowledge_base', tool_args={'query': 'color of the sky'}, tool_call_error=False, stop_after_tool_call=False, metrics={'time': 0.9097723327577114}, references=None, created_at=1752818197), Message(role='assistant', content='According to the knowledge base, \"The sky is green.\"', name=None, tool_call_id=None, tool_calls=None, audio=None, images=None, videos=None, tool_name=None, tool_args=None, tool_call_error=None, stop_after_tool_call=False, metrics={'time': 0.7145621250383556, 'input_tokens': 1474, 'prompt_tokens': 1474, 'output_tokens': 13, 'completion_tokens': 13, 'total_tokens': 1487, 'prompt_tokens_details': {'audio_tokens': 0, 'cached_tokens': 0}, 'completion_tokens_details': {'accepted_prediction_tokens': 0, 'audio_tokens': 0, 'reasoning_tokens': 0, 'rejected_prediction_tokens': 0}}, references=None, created_at=1752818198)], metrics=defaultdict(<class 'list'>, {'time': [1.839986541774124, 0.7145621250383556], 'input_tokens': [76, 1474], 'prompt_tokens': [76, 1474], 'output_tokens': [19, 13], 'completion_tokens': [19, 13], 'total_tokens': [95, 1487], 'prompt_tokens_details': [{'audio_tokens': 0, 'cached_tokens': 0}, {'audio_tokens': 0, 'cached_tokens': 0}], 'completion_tokens_details': [{'accepted_prediction_tokens': 0, 'audio_tokens': 0, 'reasoning_tokens': 0, 'rejected_prediction_tokens': 0}, {'accepted_prediction_tokens': 0, 'audio_tokens': 0, 'reasoning_tokens': 0, 'rejected_prediction_tokens': 0}]}), model='gpt-4o', run_id='1737eba8-4a52-417f-85bb-65a763152531', agent_id='52db635b-60dd-4a7e-94cf-bc915e42822d', session_id='91e70ef6-dbbb-49ae-b9f5-8d69c16cfe1e', workflow_id=None, tools=None, images=None, videos=None, audio=None, response_audio=None, extra_data=RunResponseExtraData(references=[MessageReferences(query='color of the sky', references=[{'content': 'The sky is green', 'meta_data': {}}, {'content': 'C O O K B O O K www.thaiselect.com www.thaiselect.com ', 'name': 'ThaiRecipes', 'meta_data': {'page': 1, 'chunk': 1, 'chunk_size': 54}}, {'content': 'HEALTH BENEFITS Vitamin A, B6, C, E, K, Magnesium, Manganese, Phosphorus, Potassium Preparation: 10 mins Cooking: 25 mins Total: 35 mins Spicy Level: Gaeng Kiew Wan Goong Green Curry with Shrimps { } INGREDIENTS (Two servings) 8 peeled Thai shrimps 100 grams round eggplant or brinjal, chopped into four pieces 100 grams coconut cream (the top layer of coconut milk) 500 grams coconut milk 40 grams Kiew Wan curry paste 20 grams palm sugar 2 tbsp fish sauce 2 sliced red spur chilies 4 grams sweet basil leaves 2 leaves kaffir lime, shredded Directions: 1. Simmer coconut cream in a pan until the oil separates. Add Kiew Wan curry paste and stir until it dissolves. 2. Add shrimps and fry until well cooked. Pour into a pot then add coconut milk. Bring to full boil over medium heat. 3. Add round eggplant or brinjal and season with fish sauce and palm sugar. When the curry returns to a boil, the round eggplant or brinjal will be cooked. 4. Add red spur chilies, shredded kaffir lime leaves and sweet basil leaves. Serve in a bowl. Tips: • If the curry paste is burned while frying, the curry will be darker than usual and have a slightly bitter taste. Likewise, if undercooked, it will appear pale in color and mild in taste and aroma. • As an alternative, shrimp can be replaced with chicken, pork or beef. • To keep the round eggplant or brinjal fresh and green, cut and soak in slightly salted water. Only use when the curry is fully boiling. T H A I S E L E C T C O O K B O O K | 1 3 35 Min', 'name': 'ThaiRecipes', 'meta_data': {'page': 8, 'chunk': 1, 'chunk_size': 1497}}, {'content': 'Directions: 1. Briefly grill the beef until cooked. 2. In a bowl, mix the glass noodles, chicken stock and beef with garlic, onion, chilies, celery, fish sauce, lime juice and tomatoes. If the salad is too dry, add more chicken stock. Taste and add more fish sauce and lime juice if necessary. 3. To serve, simply place on a serving plate. Sprinkle with fried dried shrimps and garnish with coriander leaves. Tips: • Before cooking, soak the glass noodles in cold water for 10 minutes and drain. Pour hot water over the noodles through a strainer . After cooked in hot water , quickly soak in cold water for a few minutes and strain. Mix with other ingredients when ready to serve. • To retain its freshness, vegetables such as tomatoes, onions and celery should be added last. • Crushed roasted peanuts may be added as desired. INGREDIENTS (One serving) 200 grams cooked glass noodles 100 grams grilled beef 20 grams dried shrimps, fried until crispy 4 cloves garlic, minced 1 onion, julienned 2-3 Thai chilies, sliced thinly 2 stalks Thai celery, chopped 2 tbsp fish sauce 2 tbsp lime juice 5 cherry tomatoes, halved 1 tbsp chopped coriander 4 tsp chicken stock 5 leaves coriander HEALTH BENEFITS Vitamin A, B1, B2, B6, C, K, Folate, Calcium, Iron, Potassium Preparation: 20 mins Cooking: 10 mins Total: 30 mins Spicy Level: { }Yum Woon Sen Neua Spicy Beef Glass Noodles Salad T H A I S E L E C T C O O K B O O K | 1 1 30 Min', 'name': 'ThaiRecipes', 'meta_data': {'page': 7, 'chunk': 1, 'chunk_size': 1427}}, {'content': 'INGREDIENTS (One serving) 150 grams chicken, cut into bite-size pieces 50 grams sliced young galangal 100 grams lightly crushed lemongrass, julienned 100 grams straw mushrooms 250 grams coconut milk 100 grams chicken stock 3 tbsp lime juice 3 tbsp fish sauce 2 leaves kaffir lime, shredded 1-2 bird’s eye chilies, pounded 3 leaves coriander Preparation: 10 mins Cooking: 20 mins Total: 30 mins Spicy Level: HEALTH BENEFITS Vitamin A, B1, B2, B6, C, E, K, Folate, Copper, Iron, Phosphorus Directions: 1. Bring the chicken stock and coconut milk to a slow boil. Add galangal, lemongrass, chicken and mushrooms. When the soup returns to a boil, season it with fish sauce. 2. Wait until the chicken is cooked, and then add the kaffir lime leaves and bird’s eye chilies. Remove the pot from heat and add lime juice. 3. Garnish with coriander leaves. Tips: • Keep the heat low throughout the cooking process. High heat will make the oil in the coconut milk separate and rise to the top. • If you’re using mature galangal, reduce the amount. • Lime juice becomes more aromatic when it is added after the pot is removed from heat. • Reduce amount of chilies for a milder taste. { }Tom Kha Gai Chicken and Galangal in Coconut Milk Soup T H A I S E L E C T C O O K B O O K | 0 7 30 Min', 'name': 'ThaiRecipes', 'meta_data': {'page': 5, 'chunk': 1, 'chunk_size': 1275}}], time=0.9091)], add_messages=None, history=None, reasoning_steps=None, reasoning_messages=None), created_at=1752818193)"
      ]
     },
     "execution_count": 5,
     "metadata": {},
     "output_type": "execute_result"
    }
   ],
   "source": [
    "agent.run(\"answer from the knowledge base, what is the color of sky?\")"
   ]
  },
  {
   "cell_type": "code",
   "execution_count": 6,
   "metadata": {},
   "outputs": [],
   "source": [
    "# from phi.agent import Agent, AgentKnowledge\n",
    "# from phi.vectordb.lancedb import LanceDb\n",
    "# from phi.vectordb.search import SearchType\n",
    "# from phi.embedder.fastembed import FastEmbedEmbedder\n",
    "\n",
    "# # Create knowledge base with recreate=True\n",
    "# knowledge_base = AgentKnowledge(\n",
    "#     vector_db=LanceDb(\n",
    "#         table_name=\"fastembed_documents\",\n",
    "#         uri=\"tmp/lancedb\",\n",
    "#         search_type=SearchType.vector,\n",
    "#         embedder=FastEmbedEmbedder(),\n",
    "#     )\n",
    "# )\n",
    "\n",
    "# # Add data to the knowledge base\n",
    "# knowledge_base.load_text(\"The sky is green\")\n",
    "# # knowledge_base.load_text(\"Machine learning is a subset of artificial intelligence\")\n",
    "\n",
    "# # Load with recreate=True to rebuild the schema\n",
    "# # knowledge_base.load(recreate=True)  # This will recreate the table"
   ]
  },
  {
   "cell_type": "markdown",
   "metadata": {},
   "source": []
  },
  {
   "cell_type": "markdown",
   "metadata": {},
   "source": [
    "\n",
    "The code in the next cell performs the following actions:\n",
    "\n",
    "1. **Creating a Knowledge Base from a PDF**:\n",
    "    - The `PDFUrlKnowledgeBase` class is used to create a knowledge base from a PDF file.\n",
    "    - The PDF file is located at the URL `\"https://phi-public.s3.amazonaws.com/recipes/ThaiRecipes.pdf\"`.\n",
    "\n",
    "2. **Configuring the Vector Database**:\n",
    "    - The knowledge base uses `LanceDb` as the vector database for storing and searching embeddings.\n",
    "    - The vector database is configured with:\n",
    "        - `table_name`: The name of the table in the database (`\"recipes\"`).\n",
    "        - `uri`: The location of the database (`\"tmp/lancedb\"`).\n",
    "        - `search_type`: The type of search to perform (`SearchType.vector`).\n",
    "        - `embedder`: The embedding model to use (`OpenAIEmbedder` with the model `\"text-embedding-3-small\"`).\n",
    "\n",
    "3. **Loading the Knowledge Base**:\n",
    "    - The `load()` method is called to load the PDF content into the knowledge base.\n",
    "    - This step is commented out after the first run to avoid reloading the data.\n",
    "\n",
    "4. **Creating an Agent**:\n",
    "    - An `Agent` object is created with the following configurations:\n",
    "        - `model`: The agent uses the `OpenAIChat` model with the ID `\"gpt-4o\"`.\n",
    "        - `knowledge`: The knowledge base created from the PDF is added to the agent.\n",
    "        - `show_tool_calls`: Enables displaying tool calls made by the agent.\n",
    "        - `markdown`: Enables markdown formatting for the agent's responses.\n",
    "        - `stream`: Enables streaming of the agent's responses.\n",
    "\n",
    "5. **Commented Example Query**:\n",
    "    - An example query (`\"How do I make chicken and galangal in coconut milk soup\"`) is provided but commented out.\n",
    "    - Uncommenting this line allows the agent to generate a response based on the knowledge base.\n",
    "\n",
    "This code demonstrates how to create a knowledge base from a PDF, configure it with a vector database, and use it with an intelligent agent to answer queries.\n"
   ]
  },
  {
   "cell_type": "code",
   "execution_count": 7,
   "metadata": {},
   "outputs": [
    {
     "data": {
      "text/html": [
       "<pre style=\"white-space:pre;overflow-x:auto;line-height:normal;font-family:Menlo,'DejaVu Sans Mono',consolas,'Courier New',monospace\"><span style=\"color: #000080; text-decoration-color: #000080\">INFO    </span> Creating collection                                                                                       \n",
       "</pre>\n"
      ],
      "text/plain": [
       "\u001b[34mINFO    \u001b[0m Creating collection                                                                                       \n"
      ]
     },
     "metadata": {},
     "output_type": "display_data"
    },
    {
     "data": {
      "text/html": [
       "<pre style=\"white-space:pre;overflow-x:auto;line-height:normal;font-family:Menlo,'DejaVu Sans Mono',consolas,'Courier New',monospace\"><span style=\"color: #000080; text-decoration-color: #000080\">INFO    </span> Loading knowledge base                                                                                    \n",
       "</pre>\n"
      ],
      "text/plain": [
       "\u001b[34mINFO    \u001b[0m Loading knowledge base                                                                                    \n"
      ]
     },
     "metadata": {},
     "output_type": "display_data"
    },
    {
     "data": {
      "text/html": [
       "<pre style=\"white-space:pre;overflow-x:auto;line-height:normal;font-family:Menlo,'DejaVu Sans Mono',consolas,'Courier New',monospace\"><span style=\"color: #000080; text-decoration-color: #000080\">INFO    </span> Reading: <span style=\"color: #0000ff; text-decoration-color: #0000ff; text-decoration: underline\">https://phi-public.s3.amazonaws.com/recipes/ThaiRecipes.pdf</span>                                      \n",
       "</pre>\n"
      ],
      "text/plain": [
       "\u001b[34mINFO    \u001b[0m Reading: \u001b[4;94mhttps://phi-public.s3.amazonaws.com/recipes/ThaiRecipes.pdf\u001b[0m                                      \n"
      ]
     },
     "metadata": {},
     "output_type": "display_data"
    },
    {
     "data": {
      "text/html": [
       "<pre style=\"white-space:pre;overflow-x:auto;line-height:normal;font-family:Menlo,'DejaVu Sans Mono',consolas,'Courier New',monospace\"><span style=\"color: #000080; text-decoration-color: #000080\">INFO    </span> Added <span style=\"color: #008080; text-decoration-color: #008080; font-weight: bold\">0</span> documents to knowledge base                                                                       \n",
       "</pre>\n"
      ],
      "text/plain": [
       "\u001b[34mINFO    \u001b[0m Added \u001b[1;36m0\u001b[0m documents to knowledge base                                                                       \n"
      ]
     },
     "metadata": {},
     "output_type": "display_data"
    }
   ],
   "source": [
    "from phi.knowledge.pdf import PDFUrlKnowledgeBase\n",
    "\n",
    "# Create a knowledge base from a PDF\n",
    "knowledge_base = PDFUrlKnowledgeBase(\n",
    "    urls=[\"https://phi-public.s3.amazonaws.com/recipes/ThaiRecipes.pdf\"],\n",
    "    # Use LanceDB as the vector database\n",
    "    vector_db=LanceDb(\n",
    "        table_name=\"recipes\",\n",
    "        uri=\"tmp/lancedb\",\n",
    "        search_type=SearchType.vector,\n",
    "        embedder=OpenAIEmbedder(model=\"text-embedding-3-small\"),\n",
    "    ),\n",
    ")\n",
    "# Comment out after first run as the knowledge base is loaded\n",
    "knowledge_base.load()\n",
    "\n",
    "agent = Agent(\n",
    "    model=OpenAIChat(id=\"gpt-4o\"),\n",
    "    # Add the knowledge base to the agent\n",
    "    knowledge=knowledge_base,\n",
    "    show_tool_calls=True,\n",
    "    markdown=True,  \n",
    "    stream=True\n",
    ")\n",
    "# agent.print_response(\"How do I make chicken and galangal in coconut milk soup\")"
   ]
  },
  {
   "cell_type": "markdown",
   "metadata": {},
   "source": [
    "\n",
    "The code in the next cell performs the following actions:\n",
    "\n",
    "1. **Importing Modules**:\n",
    "    - `Markdown` and `display` from `IPython.display`: These are used to render and display Markdown content in the Jupyter Notebook.\n",
    "\n",
    "2. **Running the Agent**:\n",
    "    - The `run` method of the `agent` object is called with the input `\"How do I make chicken and galangal in coconut milk soup\"`.\n",
    "    - This prompts the agent to search its knowledge base and provide a response based on the stored information.\n",
    "\n",
    "3. **Displaying the Response**:\n",
    "    - The response from the agent is stored in the variable `response`.\n",
    "    - The `content` attribute of the `response` object is rendered as Markdown using the `Markdown` class.\n",
    "    - The `display` function is used to display the rendered Markdown content in the notebook.\n",
    "\n",
    "This code demonstrates how to query the agent and display its response in a readable Markdown format within the Jupyter Notebook.\n"
   ]
  },
  {
   "cell_type": "code",
   "execution_count": 8,
   "metadata": {},
   "outputs": [
    {
     "data": {
      "text/markdown": [
       "\n",
       "Running:\n",
       " - search_knowledge_base(query=chicken and galangal in coconut milk soup recipe)\n",
       " - search_knowledge_base(query=Thai chicken coconut soup recipe)\n",
       "\n",
       "Here's a recipe for making **Chicken and Galangal in Coconut Milk Soup (Tom Kha Gai)**:\n",
       "\n",
       "### Ingredients:\n",
       "- 150 grams chicken, cut into bite-size pieces\n",
       "- 50 grams sliced young galangal\n",
       "- 100 grams lightly crushed lemongrass, julienned\n",
       "- 100 grams straw mushrooms\n",
       "- 250 grams coconut milk\n",
       "- 100 grams chicken stock\n",
       "- 3 tablespoons lime juice\n",
       "- 3 tablespoons fish sauce\n",
       "- 2 leaves kaffir lime, shredded\n",
       "- 1-2 bird’s eye chilies, pounded\n",
       "- 3 leaves coriander\n",
       "\n",
       "### Preparation:\n",
       "- **Preparation Time**: 10 minutes\n",
       "- **Cooking Time**: 20 minutes\n",
       "- **Total Time**: 30 minutes\n",
       "\n",
       "### Directions:\n",
       "1. Bring the chicken stock and coconut milk to a slow boil.\n",
       "2. Add galangal, lemongrass, chicken, and mushrooms. When the soup returns to a boil, season it with fish sauce.\n",
       "3. Wait until the chicken is cooked, and then add the kaffir lime leaves and bird’s eye chilies.\n",
       "4. Remove the pot from heat and add lime juice.\n",
       "5. Garnish with coriander leaves.\n",
       "\n",
       "### Tips:\n",
       "- Keep the heat low throughout the cooking process to prevent the oil in the coconut milk from separating.\n",
       "- If using mature galangal, reduce the amount as it can be quite strong.\n",
       "- Lime juice becomes more aromatic when added after the pot is removed from heat.\n",
       "- You can reduce the number of chilies for a milder taste.\n",
       "\n",
       "Enjoy your delicious homemade Tom Kha Gai!"
      ],
      "text/plain": [
       "<IPython.core.display.Markdown object>"
      ]
     },
     "metadata": {},
     "output_type": "display_data"
    }
   ],
   "source": [
    "from IPython.display import Markdown, display\n",
    "\n",
    "response=agent.run(\"How do I make chicken and galangal in coconut milk soup\")\n",
    "\n",
    "# print(response.content)\n",
    "display(Markdown(response.content))"
   ]
  },
  {
   "cell_type": "markdown",
   "metadata": {},
   "source": [
    "\n",
    "The code in the next cell performs the following actions:\n",
    "\n",
    "1. **Importing Modules**:\n",
    "    - `CSVKnowledgeBase` from `phi.knowledge.csv`: Used to create a knowledge base from a CSV file.\n",
    "    - `ChromaDb` from `phi.vectordb.chroma`: Used to manage a vector database for storing and searching embeddings.\n",
    "\n",
    "2. **Creating a Knowledge Base**:\n",
    "    - A `CSVKnowledgeBase` object is created with the following configurations:\n",
    "        - `path`: Specifies the location of the CSV file (`\"wip\"`).\n",
    "        - `vector_db`: Configures the vector database using `ChromaDb` with the collection name `\"imdb_csv\"`.\n",
    "\n",
    "This setup initializes a knowledge base from a CSV file and configures it with a vector database for efficient storage and retrieval of embeddings.\n"
   ]
  },
  {
   "cell_type": "code",
   "execution_count": 10,
   "metadata": {},
   "outputs": [],
   "source": [
    "from phi.knowledge.csv import CSVKnowledgeBase\n",
    "from phi.vectordb.chroma import ChromaDb\n",
    "\n",
    "\n",
    "\n",
    "knowledge_base = CSVKnowledgeBase(path='.', vector_db=ChromaDb(collection=\"imdb_csv\"))\n"
   ]
  },
  {
   "cell_type": "markdown",
   "metadata": {},
   "source": [
    "\n",
    "The code in the next cell performs the following actions:\n",
    "\n",
    "1. **Importing Modules**:\n",
    "    - `Agent` from `phi.agent`: Used to create an intelligent agent.\n",
    "\n",
    "2. **Creating an Agent**:\n",
    "    - An `Agent` object is created with the following configurations:\n",
    "        - `knowledge`: The knowledge base created from the CSV file is added to the agent.\n",
    "        - `search_knowledge`: Enables the agent to search the knowledge base when needed.\n",
    "\n",
    "3. **Loading the Knowledge Base**:\n",
    "    - The `load` method of the `knowledge` attribute of the agent is called with the parameter `recreate=False`.\n",
    "    - This ensures that the knowledge base is loaded without recreating it, preserving any existing data.\n",
    "\n",
    "This code demonstrates how to initialize an agent with a CSV-based knowledge base and prepare it for querying.\n"
   ]
  },
  {
   "cell_type": "code",
   "execution_count": 11,
   "metadata": {},
   "outputs": [
    {
     "data": {
      "text/html": [
       "<pre style=\"white-space:pre;overflow-x:auto;line-height:normal;font-family:Menlo,'DejaVu Sans Mono',consolas,'Courier New',monospace\"><span style=\"color: #000080; text-decoration-color: #000080\">INFO    </span> Creating collection                                                                                       \n",
       "</pre>\n"
      ],
      "text/plain": [
       "\u001b[34mINFO    \u001b[0m Creating collection                                                                                       \n"
      ]
     },
     "metadata": {},
     "output_type": "display_data"
    },
    {
     "data": {
      "text/html": [
       "<pre style=\"white-space:pre;overflow-x:auto;line-height:normal;font-family:Menlo,'DejaVu Sans Mono',consolas,'Courier New',monospace\"><span style=\"color: #000080; text-decoration-color: #000080\">INFO    </span> Loading knowledge base                                                                                    \n",
       "</pre>\n"
      ],
      "text/plain": [
       "\u001b[34mINFO    \u001b[0m Loading knowledge base                                                                                    \n"
      ]
     },
     "metadata": {},
     "output_type": "display_data"
    },
    {
     "data": {
      "text/html": [
       "<pre style=\"white-space:pre;overflow-x:auto;line-height:normal;font-family:Menlo,'DejaVu Sans Mono',consolas,'Courier New',monospace\"><span style=\"color: #000080; text-decoration-color: #000080\">INFO    </span> Reading: imdb.csv                                                                                         \n",
       "</pre>\n"
      ],
      "text/plain": [
       "\u001b[34mINFO    \u001b[0m Reading: imdb.csv                                                                                         \n"
      ]
     },
     "metadata": {},
     "output_type": "display_data"
    },
    {
     "data": {
      "text/html": [
       "<pre style=\"white-space:pre;overflow-x:auto;line-height:normal;font-family:Menlo,'DejaVu Sans Mono',consolas,'Courier New',monospace\"><span style=\"color: #000080; text-decoration-color: #000080\">INFO    </span> Added <span style=\"color: #008080; text-decoration-color: #008080; font-weight: bold\">63</span> documents to knowledge base                                                                      \n",
       "</pre>\n"
      ],
      "text/plain": [
       "\u001b[34mINFO    \u001b[0m Added \u001b[1;36m63\u001b[0m documents to knowledge base                                                                      \n"
      ]
     },
     "metadata": {},
     "output_type": "display_data"
    }
   ],
   "source": [
    "from phi.agent import Agent\n",
    "\n",
    "\n",
    "agent = Agent(\n",
    "    knowledge=knowledge_base,\n",
    "    search_knowledge=True,\n",
    ")\n",
    "\n",
    "agent.knowledge.load(recreate=False)\n",
    "\n"
   ]
  },
  {
   "cell_type": "markdown",
   "metadata": {},
   "source": [
    "\n",
    "The code in the next cell performs the following actions:\n",
    "\n",
    "1. **Querying the Agent**:\n",
    "    - The `run` method of the `agent` object is called with the input `\"List action movies\"`.\n",
    "    - This prompts the agent to search its knowledge base and provide a response based on the stored information.\n",
    "\n",
    "2. **Displaying the Response**:\n",
    "    - The response from the agent is stored in the variable `response`.\n",
    "    - The `content` attribute of the `response` object is rendered as Markdown using the `Markdown` class.\n",
    "    - The `display` function is used to display the rendered Markdown content in the notebook.\n",
    "\n",
    "This code demonstrates how to query the agent for a specific request and display its response in a readable Markdown format within the Jupyter Notebook.\n"
   ]
  },
  {
   "cell_type": "code",
   "execution_count": 12,
   "metadata": {},
   "outputs": [
    {
     "data": {
      "text/markdown": [
       "Here is a list of action movies:\n",
       "\n",
       "1. **The World's End** (2013) - Action, Comedy, Sci-Fi. The story of five friends who reunite for an epic pub crawl becomes humanity's only hope for survival. Director: Edgar Wright, Starring: Simon Pegg, Nick Frost.\n",
       "   \n",
       "2. **Beowulf** (2007) - Animation, Action, Adventure. The warrior Beowulf battles the monster Grendel and later his revenge-seeking mother. Director: Robert Zemeckis, Starring: Ray Winstone, Angelina Jolie.\n",
       "   \n",
       "3. **Jack Ryan: Shadow Recruit** (2014) - Action, Drama, Thriller. A young covert CIA analyst uncovers a Russian plot. Director: Kenneth Branagh, Starring: Chris Pine, Keira Knightley.\n",
       "   \n",
       "4. **Prince of Persia: The Sands of Time** (2010) - Action, Adventure, Fantasy. A prince and princess work to stop a villain using a magic dagger. Director: Mike Newell, Starring: Jake Gyllenhaal, Gemma Arterton.\n",
       "   \n",
       "5. **USS Indianapolis: Men of Courage** (2016) - Action, Drama, History. The story of the USS Indianapolis crew stranded in shark-infested waters during WWII. Director: Mario Van Peebles, Starring: Nicolas Cage.\n",
       "   \n",
       "6. **Sucker Punch** (2011) - Action, Fantasy. A girl institutionalized by her stepfather retreats into an alternative reality. Director: Zack Snyder, Starring: Emily Browning, Vanessa Hudgens.\n",
       "   \n",
       "7. **Jupiter Ascending** (2015) - Action, Adventure, Sci-Fi. A young woman learns her fate as intergalactic nobility. Director: Lana Wachowski, Starring: Channing Tatum, Mila Kunis.\n",
       "   \n",
       "8. **Man of Steel** (2013) - Action, Adventure, Fantasy. Clark Kent unravels his identity when Earth is threatened by an invading army. Director: Zack Snyder, Starring: Henry Cavill, Amy Adams.\n",
       "   \n",
       "9. **Turbo Kid** (2015) - Action, Adventure, Comedy. In a post-apocalyptic future, a comic book fan adopts a hero persona to fight a tyrannical overlord. Director: François Simard, Starring: Munro Chambers.\n",
       "   \n",
       "10. **The Equalizer** (2014) - Action, Crime, Thriller. A man with a mysterious past helps a young girl controlled by violent gangsters. Director: Antoine Fuqua, Starring: Denzel Washington.\n",
       "\n",
       "These movies span a variety of sub-genres within action, providing thrilling and diverse cinematic experiences."
      ],
      "text/plain": [
       "<IPython.core.display.Markdown object>"
      ]
     },
     "metadata": {},
     "output_type": "display_data"
    }
   ],
   "source": [
    "response=agent.run(\"List action movies\")\n",
    "\n",
    "display(Markdown(response.content))"
   ]
  }
 ],
 "metadata": {
  "kernelspec": {
   "display_name": "phidata_env",
   "language": "python",
   "name": "python3"
  },
  "language_info": {
   "codemirror_mode": {
    "name": "ipython",
    "version": 3
   },
   "file_extension": ".py",
   "mimetype": "text/x-python",
   "name": "python",
   "nbconvert_exporter": "python",
   "pygments_lexer": "ipython3",
   "version": "3.11.4"
  }
 },
 "nbformat": 4,
 "nbformat_minor": 2
}
