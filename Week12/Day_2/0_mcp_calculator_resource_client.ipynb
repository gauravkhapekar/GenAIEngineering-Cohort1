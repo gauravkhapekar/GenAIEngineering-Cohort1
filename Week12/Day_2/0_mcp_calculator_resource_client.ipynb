{
  "cells": [
    {
      "cell_type": "markdown",
      "metadata": {},
      "source": [
        "# MCP Calculator with Resources Demo\n",
        "\n",
        "This notebook demonstrates how to use MCP resources to maintain state across tool calls. Our enhanced calculator server now:\n",
        "- Maintains a history of all calculations\n",
        "- Provides statistics about the session\n",
        "- Allows retrieval of specific calculations\n",
        "- Generates summaries of calculation activity\n",
        "\n",
        "## What are MCP Resources?\n",
        "Resources in MCP are read-only data sources that clients can access. Unlike tools (which perform actions), resources provide access to server state and data."
      ]
    },
    {
      "cell_type": "markdown",
      "metadata": {},
      "source": [
        "## Setup and Imports\n",
        "\n",
        "First, let's import the necessary libraries and set up our connection."
      ]
    },
    {
      "cell_type": "code",
      "execution_count": 1,
      "metadata": {},
      "outputs": [],
      "source": [
        "import asyncio\n",
        "import json\n",
        "from mcp import ClientSession\n",
        "from mcp.client.sse import sse_client\n",
        "from mistralai import Mistral\n",
        "import sys\n",
        "from datetime import datetime"
      ]
    },
    {
      "cell_type": "markdown",
      "metadata": {},
      "source": [
        "## Configure Mistral AI Client"
      ]
    },
    {
      "cell_type": "code",
      "execution_count": 2,
      "metadata": {},
      "outputs": [],
      "source": [
        "import os\n",
        "from dotenv import load_dotenv\n",
        "\n",
        "load_dotenv()\n",
        "# Set your Mistral API key\n",
        "if 'MISTRAL_KEY' not in os.environ:\n",
        "    raise ValueError(\"MISTRAL_KEY environment variable is not set.\")\n",
        "mistral = Mistral(api_key=os.getenv('MISTRAL_KEY'))"
      ]
    },
    {
      "cell_type": "markdown",
      "metadata": {},
      "source": [
        "## Connect to the Enhanced Calculator Server\n",
        "\n",
        "Make sure your server is running with:\n",
        "```bash\n",
        "python calculator_server_with_resources.py\n",
        "```"
      ]
    },
    {
      "cell_type": "code",
      "execution_count": 3,
      "metadata": {},
      "outputs": [
        {
          "name": "stdout",
          "output_type": "stream",
          "text": [
            "📊 Calculator ready! Found 6 tools:\n",
            "  - add: Add two numbers together and save to history\n",
            "  - subtract: Subtract b from a and save to history\n",
            "  - multiply: Multiply two numbers and save to history\n",
            "  - divide: Divide a by b and save to history\n",
            "  - clear_history: Clear the calculation history\n",
            "  - get_last_result: Get the last calculation result\n",
            "\n",
            "📁 Found 3 resources:\n",
            "  - calculation://history: Get the complete calculation history as JSON\n",
            "  - calculation://statistics: Get calculation statistics\n",
            "  - calculation://summary: Get a summary of all calculations\n"
          ]
        }
      ],
      "source": [
        "# Connect and discover available tools and resources\n",
        "server_url = \"http://localhost:9321/sse\"\n",
        "\n",
        "async with sse_client(server_url) as (read, write):\n",
        "    async with ClientSession(read, write) as session:\n",
        "        await session.initialize()\n",
        "        \n",
        "        # List available tools\n",
        "        tools_result = await session.list_tools()\n",
        "        print(f\"📊 Calculator ready! Found {len(tools_result.tools)} tools:\")\n",
        "        for tool in tools_result.tools:\n",
        "            print(f\"  - {tool.name}: {tool.description}\")\n",
        "        \n",
        "        # List available resources\n",
        "        resources_result = await session.list_resources()\n",
        "        print(f\"\\n📁 Found {len(resources_result.resources)} resources:\")\n",
        "        for resource in resources_result.resources:\n",
        "            print(f\"  - {resource.uri}: {resource.description}\")"
      ]
    },
    {
      "cell_type": "markdown",
      "metadata": {},
      "source": [
        "## Clear History (Start Fresh)\n",
        "\n",
        "Let's start with a clean slate by clearing any existing history."
      ]
    },
    {
      "cell_type": "code",
      "execution_count": 4,
      "metadata": {},
      "outputs": [
        {
          "name": "stdout",
          "output_type": "stream",
          "text": [
            "History cleared successfully\n"
          ]
        }
      ],
      "source": [
        "async with sse_client(server_url) as (read, write):\n",
        "    async with ClientSession(read, write) as session:\n",
        "        await session.initialize()\n",
        "        \n",
        "        # Clear history\n",
        "        result = await session.call_tool(\"clear_history\", {})\n",
        "        print(result.content[0].text)"
      ]
    },
    {
      "cell_type": "markdown",
      "metadata": {},
      "source": [
        "## Perform Multiple Calculations\n",
        "\n",
        "Let's perform several calculations to build up our history."
      ]
    },
    {
      "cell_type": "code",
      "execution_count": 5,
      "metadata": {},
      "outputs": [],
      "source": [
        "mistral_tools = []\n",
        "for tool in tools_result.tools:\n",
        "    tool_def = {\n",
        "        \"type\": \"function\",  # Required wrapper\n",
        "        \"function\": {        # Function definition\n",
        "            \"name\": tool.name,\n",
        "            \"description\": tool.description,\n",
        "            \"parameters\": {\n",
        "                \"type\": \"object\",\n",
        "                \"properties\": {\n",
        "                    \"a\": {\n",
        "                        \"type\": \"number\",\n",
        "                        \"description\": \"First number\"\n",
        "                    },\n",
        "                    \"b\": {\n",
        "                        \"type\": \"number\",\n",
        "                        \"description\": \"Second number\"\n",
        "                    }\n",
        "                },\n",
        "                \"required\": [\"a\", \"b\"]\n",
        "            }\n",
        "        }\n",
        "    }\n",
        "    mistral_tools.append(tool_def)"
      ]
    },
    {
      "cell_type": "code",
      "execution_count": 6,
      "metadata": {},
      "outputs": [
        {
          "data": {
            "text/plain": [
              "[{'type': 'function',\n",
              "  'function': {'name': 'add',\n",
              "   'description': 'Add two numbers together and save to history',\n",
              "   'parameters': {'type': 'object',\n",
              "    'properties': {'a': {'type': 'number', 'description': 'First number'},\n",
              "     'b': {'type': 'number', 'description': 'Second number'}},\n",
              "    'required': ['a', 'b']}}},\n",
              " {'type': 'function',\n",
              "  'function': {'name': 'subtract',\n",
              "   'description': 'Subtract b from a and save to history',\n",
              "   'parameters': {'type': 'object',\n",
              "    'properties': {'a': {'type': 'number', 'description': 'First number'},\n",
              "     'b': {'type': 'number', 'description': 'Second number'}},\n",
              "    'required': ['a', 'b']}}},\n",
              " {'type': 'function',\n",
              "  'function': {'name': 'multiply',\n",
              "   'description': 'Multiply two numbers and save to history',\n",
              "   'parameters': {'type': 'object',\n",
              "    'properties': {'a': {'type': 'number', 'description': 'First number'},\n",
              "     'b': {'type': 'number', 'description': 'Second number'}},\n",
              "    'required': ['a', 'b']}}},\n",
              " {'type': 'function',\n",
              "  'function': {'name': 'divide',\n",
              "   'description': 'Divide a by b and save to history',\n",
              "   'parameters': {'type': 'object',\n",
              "    'properties': {'a': {'type': 'number', 'description': 'First number'},\n",
              "     'b': {'type': 'number', 'description': 'Second number'}},\n",
              "    'required': ['a', 'b']}}},\n",
              " {'type': 'function',\n",
              "  'function': {'name': 'clear_history',\n",
              "   'description': 'Clear the calculation history',\n",
              "   'parameters': {'type': 'object',\n",
              "    'properties': {'a': {'type': 'number', 'description': 'First number'},\n",
              "     'b': {'type': 'number', 'description': 'Second number'}},\n",
              "    'required': ['a', 'b']}}},\n",
              " {'type': 'function',\n",
              "  'function': {'name': 'get_last_result',\n",
              "   'description': 'Get the last calculation result',\n",
              "   'parameters': {'type': 'object',\n",
              "    'properties': {'a': {'type': 'number', 'description': 'First number'},\n",
              "     'b': {'type': 'number', 'description': 'Second number'}},\n",
              "    'required': ['a', 'b']}}}]"
            ]
          },
          "execution_count": 6,
          "metadata": {},
          "output_type": "execute_result"
        }
      ],
      "source": [
        "mistral_tools"
      ]
    },
    {
      "cell_type": "code",
      "execution_count": 7,
      "metadata": {},
      "outputs": [],
      "source": [
        "# user_input = \"Find 5 minus 2\"\n",
        "\n",
        "# Request Mistral to perform the calculation\n",
        "def generate_new_query(user_input, previous_result=None):\n",
        "    \n",
        "    response = mistral.chat.complete(\n",
        "        model=\"mistral-small-latest\",\n",
        "        messages=[{\n",
        "            \"role\": \"system\",\n",
        "            \"content\": \"You are a calculator assistant. Use the add or subtract functions to help the user with calculations.\"\n",
        "        }, {\n",
        "            \"role\": \"user\",\n",
        "            \"content\": f\"previous result is {previous_result} and user_input is {user_input}.  return operation and two relevant numbers to perform the calculation.\"\n",
        "        }],\n",
        "        tools=mistral_tools,\n",
        "        tool_choice=\"auto\"\n",
        "    )\n",
        "    return response.choices[0].message"
      ]
    },
    {
      "cell_type": "code",
      "execution_count": 8,
      "metadata": {},
      "outputs": [
        {
          "name": "stdout",
          "output_type": "stream",
          "text": [
            "Performing calculations...\n",
            "\n",
            "add 10 and 5\n",
            "previous result Error calling tool 'get_last_result': No calculations performed yet\n",
            "content='' tool_calls=[ToolCall(function=FunctionCall(name='add', arguments='{\"a\": 10, \"b\": 5}'), id='ew2mIRna2', type=None, index=0)] prefix=False role='assistant'\n",
            "Operation: add 10 and 5, args: {'a': 10, 'b': 5}, Result: 15.0\n",
            "************************************\n",
            "subtract 8 from 20\n",
            "previous result 15.0\n",
            "content='' tool_calls=[ToolCall(function=FunctionCall(name='subtract', arguments='{\"a\": 20, \"b\": 8}'), id='i2RAAx91y', type=None, index=0)] prefix=False role='assistant'\n",
            "Operation: subtract 8 from 20, args: {'a': 20, 'b': 8}, Result: 12.0\n",
            "************************************\n",
            "multiply 7 and 6\n",
            "previous result 12.0\n",
            "content='' tool_calls=[ToolCall(function=FunctionCall(name='multiply', arguments='{\"a\": 7, \"b\": 6}'), id='lZD1Pgq2N', type=None, index=0)] prefix=False role='assistant'\n",
            "Operation: multiply 7 and 6, args: {'a': 7, 'b': 6}, Result: 42.0\n",
            "************************************\n",
            "divide 100 into 4\n",
            "previous result 42.0\n",
            "content='' tool_calls=[ToolCall(function=FunctionCall(name='divide', arguments='{\"a\": 100, \"b\": 4}'), id='A7YJwqRtJ', type=None, index=0)] prefix=False role='assistant'\n",
            "Operation: divide 100 into 4, args: {'a': 100, 'b': 4}, Result: 25.0\n",
            "************************************\n",
            "add another 5 to result\n",
            "previous result 25.0\n",
            "content='' tool_calls=[ToolCall(function=FunctionCall(name='add', arguments='{\"a\": 25, \"b\": 5}'), id='3ANK3gcSc', type=None, index=0)] prefix=False role='assistant'\n",
            "Operation: add another 5 to result, args: {'a': 25, 'b': 5}, Result: 30.0\n",
            "************************************\n"
          ]
        }
      ],
      "source": [
        "# Define a series of calculations\n",
        "calculations = [\n",
        "    \"add 10 and 5\",\n",
        "    \"subtract 8 from 20\",\n",
        "    \"multiply 7 and 6\",\n",
        "    \"divide 100 into 4\", #25\n",
        "    \"add another 5 to result\" #30\n",
        "]\n",
        "\n",
        "async with sse_client(server_url) as (read, write):\n",
        "    async with ClientSession(read, write) as session:\n",
        "        await session.initialize()\n",
        "        \n",
        "        print(\"Performing calculations...\\n\")\n",
        "        for operation in calculations:\n",
        "            print(operation)\n",
        "            previous_result = await session.call_tool(\"get_last_result\")\n",
        "            print(\"previous result\", previous_result.content[0].text)\n",
        "            message = generate_new_query(operation, previous_result)\n",
        "            print(message)\n",
        "            if message.tool_calls is not None:\n",
        "                for tool_call in message.tool_calls:\n",
        "                    # Extract function name\n",
        "                    func_name = tool_call.function.name\n",
        "                    \n",
        "                    # Parse arguments (handle both string and dict formats)\n",
        "                    if isinstance(tool_call.function.arguments, str):\n",
        "                        args = json.loads(tool_call.function.arguments)\n",
        "                    else:\n",
        "                        args = tool_call.function.arguments\n",
        "                    \n",
        "                    # Execute the MCP tool\n",
        "                    result = await session.call_tool(func_name, args)\n",
        "                    print(f\"Operation: {operation}, args: {args}, Result: {result.content[0].text}\")\n",
        "                    print(\"************************************\")\n",
        "            else:\n",
        "                print(\"No tool calls found in the response.\")"
      ]
    },
    {
      "cell_type": "markdown",
      "metadata": {},
      "source": [
        "## Access Calculation History Resource\n",
        "\n",
        "Now let's retrieve the complete history of calculations using the history resource."
      ]
    },
    {
      "cell_type": "code",
      "execution_count": 9,
      "metadata": {},
      "outputs": [
        {
          "name": "stdout",
          "output_type": "stream",
          "text": [
            "Total calculations in history: 5\n",
            "\n",
            "Calculation History:\n",
            "==================================================\n",
            "ID: 1\n",
            "Time: 2025-07-06T11:25:56.969554\n",
            "Operation: add(10.0, 5.0) = 15.0\n",
            "------------------------------\n",
            "ID: 2\n",
            "Time: 2025-07-06T11:25:57.872961\n",
            "Operation: subtract(20.0, 8.0) = 12.0\n",
            "------------------------------\n",
            "ID: 3\n",
            "Time: 2025-07-06T11:25:58.420030\n",
            "Operation: multiply(7.0, 6.0) = 42.0\n",
            "------------------------------\n",
            "ID: 4\n",
            "Time: 2025-07-06T11:25:59.787841\n",
            "Operation: divide(100.0, 4.0) = 25.0\n",
            "------------------------------\n",
            "ID: 5\n",
            "Time: 2025-07-06T11:26:00.303221\n",
            "Operation: add(25.0, 5.0) = 30.0\n",
            "------------------------------\n"
          ]
        }
      ],
      "source": [
        "async with sse_client(server_url) as (read, write):\n",
        "    async with ClientSession(read, write) as session:\n",
        "        await session.initialize()\n",
        "        \n",
        "        # Read the history resource\n",
        "        history_resource = await session.read_resource(\"calculation://history\")\n",
        "        history_data = json.loads(history_resource.contents[0].text)\n",
        "        \n",
        "        print(f\"Total calculations in history: {history_data['count']}\\n\")\n",
        "        print(\"Calculation History:\")\n",
        "        print(\"=\" * 50)\n",
        "        \n",
        "        for calc in history_data['history']:\n",
        "            print(f\"ID: {calc['id']}\")\n",
        "            print(f\"Time: {calc['timestamp']}\")\n",
        "            print(f\"Operation: {calc['operation']}({calc['a']}, {calc['b']}) = {calc['result']}\")\n",
        "            print(\"-\" * 30)"
      ]
    },
    {
      "cell_type": "markdown",
      "metadata": {},
      "source": [
        "## Access Statistics Resource\n",
        "\n",
        "Let's check the current statistics for our session."
      ]
    },
    {
      "cell_type": "code",
      "execution_count": 10,
      "metadata": {},
      "outputs": [
        {
          "name": "stdout",
          "output_type": "stream",
          "text": [
            "Session Statistics:\n",
            "==============================\n",
            "Total Calculations: 5\n",
            "Last Result: 30.0\n",
            "Last Operation: add\n",
            "Session Start: 2025-07-06T11:25:50.659037\n"
          ]
        }
      ],
      "source": [
        "async with sse_client(server_url) as (read, write):\n",
        "    async with ClientSession(read, write) as session:\n",
        "        await session.initialize()\n",
        "        \n",
        "        # Read statistics\n",
        "        stats_resource = await session.read_resource(\"calculation://statistics\")\n",
        "        stats = json.loads(stats_resource.contents[0].text)\n",
        "        \n",
        "        print(\"Session Statistics:\")\n",
        "        print(\"=\" * 30)\n",
        "        print(f\"Total Calculations: {stats['total_calculations']}\")\n",
        "        print(f\"Last Result: {stats['last_result']}\")\n",
        "        print(f\"Last Operation: {stats['last_operation']}\")\n",
        "        print(f\"Session Start: {stats['session_start']}\")"
      ]
    },
    {
      "cell_type": "markdown",
      "metadata": {},
      "source": [
        "## Retrieve Specific Calculation by ID\n",
        "\n",
        "Resources can have parameters. Let's retrieve a specific calculation using its ID."
      ]
    },
    {
      "cell_type": "code",
      "execution_count": 11,
      "metadata": {},
      "outputs": [
        {
          "name": "stdout",
          "output_type": "stream",
          "text": [
            "Calculation #3:\n",
            "{\n",
            "  \"id\": 3,\n",
            "  \"timestamp\": \"2025-07-06T11:25:58.420030\",\n",
            "  \"operation\": \"multiply\",\n",
            "  \"a\": 7.0,\n",
            "  \"b\": 6.0,\n",
            "  \"result\": 42.0\n",
            "}\n"
          ]
        }
      ],
      "source": [
        "# Retrieve calculation with ID 3\n",
        "async with sse_client(server_url) as (read, write):\n",
        "    async with ClientSession(read, write) as session:\n",
        "        await session.initialize()\n",
        "        \n",
        "        # Read specific calculation\n",
        "        calc_resource = await session.read_resource(\"calculation://history/3\")\n",
        "        calc = json.loads(calc_resource.contents[0].text)\n",
        "        \n",
        "        print(\"Calculation #3:\")\n",
        "        print(json.dumps(calc, indent=2))"
      ]
    },
    {
      "cell_type": "markdown",
      "metadata": {},
      "source": [
        "## Access Summary Resource\n",
        "\n",
        "The summary resource provides aggregate information about all calculations."
      ]
    },
    {
      "cell_type": "code",
      "execution_count": 12,
      "metadata": {},
      "outputs": [
        {
          "name": "stdout",
          "output_type": "stream",
          "text": [
            "Calculation Summary:\n",
            "========================================\n",
            "Total: 5 calculations\n",
            "\n",
            "Operations breakdown:\n",
            "  - add: 2 times\n",
            "  - subtract: 1 times\n",
            "  - multiply: 1 times\n",
            "  - divide: 1 times\n",
            "\n",
            "Results statistics:\n",
            "  - Min: 12.0\n",
            "  - Max: 42.0\n",
            "  - Average: 24.80\n",
            "  - Last 5: [15.0, 12.0, 42.0, 25.0, 30.0]\n"
          ]
        }
      ],
      "source": [
        "async with sse_client(server_url) as (read, write):\n",
        "    async with ClientSession(read, write) as session:\n",
        "        await session.initialize()\n",
        "        \n",
        "        # Read summary\n",
        "        summary_resource = await session.read_resource(\"calculation://summary\")\n",
        "        summary = json.loads(summary_resource.contents[0].text)\n",
        "        \n",
        "        print(\"Calculation Summary:\")\n",
        "        print(\"=\" * 40)\n",
        "        print(f\"Total: {summary['total_calculations']} calculations\")\n",
        "        print(f\"\\nOperations breakdown:\")\n",
        "        for op, count in summary['operations_breakdown'].items():\n",
        "            print(f\"  - {op}: {count} times\")\n",
        "        \n",
        "        print(f\"\\nResults statistics:\")\n",
        "        print(f\"  - Min: {summary['results']['min']}\")\n",
        "        print(f\"  - Max: {summary['results']['max']}\")\n",
        "        print(f\"  - Average: {summary['results']['average']:.2f}\")\n",
        "        print(f\"  - Last 5: {summary['results']['last_5_results']}\")"
      ]
    },
    {
      "cell_type": "markdown",
      "metadata": {},
      "source": [
        "## Using Resources with Mistral AI\n",
        "\n",
        "Now let's demonstrate how Mistral can use both tools and resources together. We'll prepare the tools for Mistral and create a more complex interaction."
      ]
    },
    {
      "cell_type": "code",
      "execution_count": 13,
      "metadata": {},
      "outputs": [
        {
          "name": "stdout",
          "output_type": "stream",
          "text": [
            "Prepared 6 tools for Mistral\n"
          ]
        }
      ],
      "source": [
        "# Prepare tools for Mistral\n",
        "async with sse_client(server_url) as (read, write):\n",
        "    async with ClientSession(read, write) as session:\n",
        "        await session.initialize()\n",
        "        tools_result = await session.list_tools()\n",
        "        \n",
        "        mistral_tools = []\n",
        "        for tool in tools_result.tools:\n",
        "            # Create a generic parameter schema\n",
        "            parameters = {\n",
        "                \"type\": \"object\",\n",
        "                \"properties\": {},\n",
        "                \"required\": []\n",
        "            }\n",
        "            \n",
        "            # Add parameters based on tool name\n",
        "            if tool.name in [\"add\", \"subtract\", \"multiply\", \"divide\"]:\n",
        "                parameters[\"properties\"] = {\n",
        "                    \"a\": {\"type\": \"number\", \"description\": \"First number\"},\n",
        "                    \"b\": {\"type\": \"number\", \"description\": \"Second number\"}\n",
        "                }\n",
        "                parameters[\"required\"] = [\"a\", \"b\"]\n",
        "            \n",
        "            tool_def = {\n",
        "                \"type\": \"function\",\n",
        "                \"function\": {\n",
        "                    \"name\": tool.name,\n",
        "                    \"description\": tool.description,\n",
        "                    \"parameters\": parameters\n",
        "                }\n",
        "            }\n",
        "            mistral_tools.append(tool_def)\n",
        "        \n",
        "        print(f\"Prepared {len(mistral_tools)} tools for Mistral\")"
      ]
    },
    {
      "cell_type": "markdown",
      "metadata": {},
      "source": [
        "## Complex Calculation with History Check\n",
        "\n",
        "Let's ask Mistral to perform a calculation and then tell us about the history."
      ]
    },
    {
      "cell_type": "code",
      "execution_count": 14,
      "metadata": {},
      "outputs": [
        {
          "name": "stdout",
          "output_type": "stream",
          "text": [
            "Calculation result: 5535.0\n"
          ]
        }
      ],
      "source": [
        "# First, perform a calculation\n",
        "user_input = \"Calculate 123 times 45 for me\"\n",
        "\n",
        "response = mistral.chat.complete(\n",
        "    model=\"mistral-small-latest\",\n",
        "    messages=[{\n",
        "        \"role\": \"system\",\n",
        "        \"content\": \"You are a calculator assistant. Use the available functions to help with calculations.\"\n",
        "    }, {\n",
        "        \"role\": \"user\",\n",
        "        \"content\": user_input\n",
        "    }],\n",
        "    tools=mistral_tools,\n",
        "    tool_choice=\"auto\"\n",
        ")\n",
        "\n",
        "# Execute the tool call\n",
        "message = response.choices[0].message\n",
        "if message.tool_calls:\n",
        "    async with sse_client(server_url) as (read, write):\n",
        "        async with ClientSession(read, write) as session:\n",
        "            await session.initialize()\n",
        "            \n",
        "            for tool_call in message.tool_calls:\n",
        "                func_name = tool_call.function.name\n",
        "                args = json.loads(tool_call.function.arguments) if isinstance(tool_call.function.arguments, str) else tool_call.function.arguments\n",
        "                \n",
        "                result = await session.call_tool(func_name, args)\n",
        "                print(f\"Calculation result: {result.content[0].text}\")"
      ]
    },
    {
      "cell_type": "markdown",
      "metadata": {},
      "source": [
        "## Check Updated Statistics\n",
        "\n",
        "After our Mistral-driven calculation, let's check how the statistics have changed."
      ]
    },
    {
      "cell_type": "code",
      "execution_count": null,
      "metadata": {},
      "outputs": [
        {
          "name": "stdout",
          "output_type": "stream",
          "text": [
            "Updated Statistics:\n",
            "Total Calculations: 6\n",
            "Last Operation: multiply\n",
            "Last Result (from tool): 5535.0\n"
          ]
        }
      ],
      "source": [
        "async with sse_client(server_url) as (read, write):\n",
        "    async with ClientSession(read, write) as session:\n",
        "        await session.initialize()\n",
        "        \n",
        "        # Get updated statistics\n",
        "        stats_resource = await session.read_resource(\"calculation://statistics\")\n",
        "        stats = json.loads(stats_resource.contents[1].text)\n",
        "        \n",
        "        # Get the last result using the tool\n",
        "        last_result = await session.call_tool(\"get_last_result\", {})\n",
        "        \n",
        "        print(\"Updated Statistics:\")\n",
        "        print(f\"Total Calculations: {stats['total_calculations']}\")\n",
        "        print(f\"Last Operation: {stats['last_operation']}\")\n",
        "        print(f\"Last Result (from tool): {last_result.content[0].text}\")"
      ]
    },
    {
      "cell_type": "markdown",
      "metadata": {},
      "source": [
        "## Interactive Example: Calculator with Memory\n",
        "\n",
        "Let's create a function that combines tools and resources for a more interactive experience."
      ]
    },
    {
      "cell_type": "code",
      "execution_count": 16,
      "metadata": {},
      "outputs": [
        {
          "name": "stdout",
          "output_type": "stream",
          "text": [
            "Processing: What is 88 divided by 11?\n",
            "========================================\n",
            "Result: 8.0\n",
            "\n",
            "This was calculation #7\n",
            "Session average: 809.57\n"
          ]
        }
      ],
      "source": [
        "async def calculator_with_memory(expression: str):\n",
        "    \"\"\"Process a calculation and show relevant history\"\"\"\n",
        "    print(f\"Processing: {expression}\")\n",
        "    print(\"=\" * 40)\n",
        "    \n",
        "    # Use Mistral to interpret and calculate\n",
        "    response = mistral.chat.complete(\n",
        "        model=\"mistral-small-latest\",\n",
        "        messages=[{\n",
        "            \"role\": \"system\",\n",
        "            \"content\": \"You are a calculator. Parse the user's expression and use the appropriate function.\"\n",
        "        }, {\n",
        "            \"role\": \"user\",\n",
        "            \"content\": expression\n",
        "        }],\n",
        "        tools=mistral_tools,\n",
        "        tool_choice=\"auto\"\n",
        "    )\n",
        "    \n",
        "    # Execute the calculation\n",
        "    message = response.choices[0].message\n",
        "    if message.tool_calls:\n",
        "        async with sse_client(server_url) as (read, write):\n",
        "            async with ClientSession(read, write) as session:\n",
        "                await session.initialize()\n",
        "                \n",
        "                for tool_call in message.tool_calls:\n",
        "                    func_name = tool_call.function.name\n",
        "                    args = json.loads(tool_call.function.arguments) if isinstance(tool_call.function.arguments, str) else tool_call.function.arguments\n",
        "                    \n",
        "                    # Perform calculation\n",
        "                    result = await session.call_tool(func_name, args)\n",
        "                    print(f\"Result: {result.content[0].text}\")\n",
        "                    \n",
        "                    # Get summary after calculation\n",
        "                    summary_resource = await session.read_resource(\"calculation://summary\")\n",
        "                    summary = json.loads(summary_resource.contents[0].text)\n",
        "                    \n",
        "                    print(f\"\\nThis was calculation #{summary['total_calculations']}\")\n",
        "                    print(f\"Session average: {summary['results']['average']:.2f}\")\n",
        "\n",
        "# Test the function\n",
        "await calculator_with_memory(\"What is 88 divided by 11?\")"
      ]
    },
    {
      "cell_type": "markdown",
      "metadata": {},
      "source": [
        "## Summary\n",
        "\n",
        "In this notebook, we've demonstrated:\n",
        "\n",
        "1. **MCP Resources**: How to access server state through resources\n",
        "2. **State Persistence**: How calculations are stored and can be retrieved\n",
        "3. **Resource Types**:\n",
        "   - Simple resources (`calculation://history`)\n",
        "   - Parameterized resources (`calculation://history/{id}`)\n",
        "   - Aggregate resources (`calculation://summary`)\n",
        "4. **Integration**: How to combine tools and resources for richer interactions\n",
        "5. **Mistral AI Integration**: Using LLM to interpret requests and access calculator state\n",
        "\n",
        "### Key Benefits of Resources:\n",
        "- **State Management**: Maintain context across multiple tool calls\n",
        "- **Data Access**: Provide read-only access to server data\n",
        "- **Flexibility**: Support both simple and parameterized queries\n",
        "- **Integration**: Work seamlessly with tools for complete functionality\n",
        "\n",
        "This pattern can be extended to more complex applications where maintaining state and providing data access is crucial."
      ]
    }
  ],
  "metadata": {
    "kernelspec": {
      "display_name": "mcp_env",
      "language": "python",
      "name": "python3"
    },
    "language_info": {
      "codemirror_mode": {
        "name": "ipython",
        "version": 3
      },
      "file_extension": ".py",
      "mimetype": "text/x-python",
      "name": "python",
      "nbconvert_exporter": "python",
      "pygments_lexer": "ipython3",
      "version": "3.11.4"
    }
  },
  "nbformat": 4,
  "nbformat_minor": 4
}
